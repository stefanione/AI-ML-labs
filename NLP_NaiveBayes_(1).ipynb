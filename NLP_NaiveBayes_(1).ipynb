{
  "cells": [
    {
      "cell_type": "markdown",
      "metadata": {
        "id": "NouB8c-q0WTY"
      },
      "source": [
        "# Prelucrarea Limbajului Natural: Analiza Sentimentelor\n",
        " - Tudor Berariu\n",
        " - Andrei Olaru\n",
        "\n",
        "Scopul acestui laborator îl reprezintă rezolvarea unei probleme ce implică analiza unor documente în limbaj natural și învățarea unui algoritm simplu de clasificare: **Naive Bayes**.\n",
        "\n",
        "## Analiza Sentimentelor\n",
        "\n",
        "O serie de probleme de inteligență artificială presupun asocierea unei clase unui document în limbaj natural. Exemple de astfel de probleme sunt: **clasificarea** email-urilor în *spam* sau *ham* sau a recenziilor unor filme în *pozitive* sau *negative*. În laboratorul de astăzi vom aborda problema din urmă.\n",
        "\n",
        "Folosind setul de date de aici: http://www.cs.cornell.edu/people/pabo/movie-review-data/ (2000 de recenzii de film), vom construi un model care să discrimineze între recenziile pozitive și recenziile negative."
      ]
    },
    {
      "cell_type": "markdown",
      "metadata": {
        "id": "J9UIDgJd0WTa"
      },
      "source": [
        "## Algoritmul Naive Bayes\n",
        "\n",
        "### Clasificare\n",
        "\n",
        "Având un set de date $\\langle \\mathbf{X}, \\mathbf{T} \\rangle$ compus din $N$ exemple $\\mathbf{x}^{(i)}$, $1 \\le i \\le N$, descrise prin $k$ atribute $(x^{(i)}_1, x^{(i)}_2, \\ldots, x^{(i)}_k)$ și etichetate cu o clasă $t^{(i)} \\in \\mathcal{C}$, se cere construirea unui clasificator care să eticheteze exemple noi.\n",
        "\n",
        "### Naive Bayes\n",
        "\n",
        "**Naive Bayes** reprezintă o *metodă statistică inductivă* de clasificare, bazată pe Teorema lui Bayes pentru exprimarea relației dintre probabilitatea *a priori* și probabilitatea *posterioară* ale unei ipoteze.\n",
        "\n",
        "$$P(c \\vert \\mathbf{x}) = \\frac{P(\\mathbf{x} \\vert c) \\cdot P(c)}{P(\\mathbf{x})}$$\n",
        "\n",
        " - $P(c)$ reprezintă probabilitatea *a priori* a clasei $c$\n",
        " - $P(c \\vert \\mathbf{x})$ reprezintă probabilitatea *a posteriori* (după observarea lui $\\mathbf{x}$)\n",
        " - $P(\\mathbf{x} \\vert c)$ reprezitnă probabilitatea ca $\\mathbf{x}$ să aparțină clasei $c$ (*verosimilitatea*)\n",
        "\n",
        "Un clasificator **Naive Bayes** funcționează pe principiul verosimilității maxime (eng. *maximum likelihood*), deci alege clasa $c$ pentru care probabilitatea $P(c \\vert x)$ este maximă:\n",
        "\n",
        "$$c_{MAP} = \\underset{c \\in \\mathcal{C}}{\\arg\\max} P(c \\vert \\mathbf{x}) = \\underset{c \\in \\mathcal{C}}{\\arg\\max} \\frac{P(\\mathbf{x} \\vert c) \\cdot P(c)}{P(x)} = \\underset{c \\in \\mathcal{C}}{\\arg\\max} P(\\mathbf{x} \\vert c) \\cdot P(c)$$\n",
        "\n",
        "Cum fiecare exemplu $\\mathbf{x}$ este descris prin $K$ atribute:\n",
        "\n",
        "$$c_{MAP} = \\underset{c \\in \\mathcal{C}}{\\arg\\max} P(x_1, x_2, \\ldots x_K \\vert c) \\cdot P(c)$$\n",
        "\n",
        "Algoritmul **Naive Bayes** face o presupunere simplificatoare, și anume, că atributele unui exemplu sunt *condițional independente* odată ce clasa este cunoscută:\n",
        "\n",
        "$$P(\\mathbf{x} \\vert c) = \\displaystyle\\prod_i P(x_i \\vert c)$$\n",
        "\n",
        "Astfel clasa pe care o prezice un clasificator **Naive Bayes** este:\n",
        "\n",
        "$$c_{NB} = \\underset{c \\in \\mathcal{C}}{\\arg\\max} P(c) \\cdot \\displaystyle \\prod_{i}^{K} P(x_i \\vert c)$$\n",
        "\n"
      ]
    },
    {
      "cell_type": "markdown",
      "metadata": {
        "id": "emmnRaD20WTb"
      },
      "source": [
        "## Clasificarea documentelor\n",
        "\n",
        "Pentru clasificare documentele vor fi reprezentate prin vectori binari de lungimea vocabularului (eng. *bag of words*). Practic fiecare document va avea 1 pe pozițiile corspunzătoare cuvintelor pe care le conține și 0 pe toate celelalte poziții. Dimensiunea unui exemplu $\\mathbf{x}$ este, deci, numărul de cuvinte diferite din setul de date.\n",
        "\n",
        "### Estimarea parametrilor modelului Naive Bayes\n",
        "\n",
        "Probabilitatea _a priori_ pentru o clasă $c \\in \\mathcal{C}$:\n",
        "\n",
        "$$P(c) = \\frac{\\#\\text{ docs in class }c}{\\#\\text{ total docs}}$$\n",
        "\n",
        "$P(x_i \\vert c)$ va reprezenta probabilitatea de a apărea cuvântul $x_i$ într-un document din clasa $c$ și o vom estima cu raportul dintre numărul de apariții ale cuvântului $x_i$ în documentele din clasa $c$ și numărul total de cuvinte ale acelor documente:\n",
        "\n",
        "$$P(x_i \\vert c) = \\frac{\\#\\text{ aparitii ale lui } x_i \\text{ in documente din clasa } c}{\\#\\text{ numar total de cuvinte in documentele din clasa } c}$$\n",
        "\n",
        "Deoarece este posibil ca un cuvant _rar_ ce apare într-un exemplu de test să nu se găsească deloc într-una din clase, se poate întâmpla ca un astfel de _accident_ să anuleze complet o probabilitate. Dacă un singur factor al unui produs este zero, atunci produsul devine zero. De aceea vom folosi netezire Laplace (eng. _Laplace smoothing_):\n",
        "\n",
        "$$P(x_i \\vert c) = \\frac{\\#\\text{ aparitii ale lui } x_i \\text{ in documente din clasa } c + \\alpha}{\\#\\text{ numar total de cuvinte in documentele din clasa } c + \\vert \\mathit{Voc} \\vert \\cdot \\alpha}$$\n",
        "\n",
        "unde $\\mathit{Voc}$ este dimensiunea vocabularului."
      ]
    },
    {
      "cell_type": "markdown",
      "metadata": {
        "id": "cdDd6dch0WTb"
      },
      "source": [
        "## Setul de date\n",
        "\n",
        " 1. Descărcați setul de date **polarity dataset v2.0** de aici http://www.cs.cornell.edu/people/pabo/movie-review-data/\n",
        " 2. Dezarhivați fișierul **review_polarity.tar.gz** și rearhivați directorul review_polarity ca zip.\n",
        " 3. Plasați / încărcați **review_polarity.zip** în directorul de lucru."
      ]
    },
    {
      "cell_type": "code",
      "source": [
        "#mkdir review_polarity"
      ],
      "metadata": {
        "id": "1hJXBPIe0dzK"
      },
      "execution_count": null,
      "outputs": []
    },
    {
      "cell_type": "code",
      "execution_count": null,
      "metadata": {
        "colab": {
          "base_uri": "https://localhost:8080/"
        },
        "id": "QkRDVME80WTb",
        "outputId": "0f50c725-1a2a-4e8d-b9f2-ed3678b1f383"
      },
      "outputs": [
        {
          "output_type": "stream",
          "name": "stdout",
          "text": [
            "Recenzii pozitive: 1000; Recenzii negative: 1000\n"
          ]
        }
      ],
      "source": [
        "import zipfile\n",
        "\n",
        "zipFile = zipfile.ZipFile(\"review_polarity/review_polarity.zip\")\n",
        "\n",
        "pos_files = [f for f in zipFile.namelist() if '/pos/cv' in f]\n",
        "neg_files = [f for f in zipFile.namelist() if '/neg/cv' in f]\n",
        "\n",
        "pos_files.sort()\n",
        "neg_files.sort()\n",
        "\n",
        "print(\"Recenzii pozitive: \" + str(len(pos_files)) + \"; Recenzii negative: \" + str(len(neg_files)))\n",
        "\n",
        "# Raspunsul asteptat: \"Recenzii pozitive: 1000; Recenzii negative: 1000\"\n",
        "assert(len(pos_files) == 1000 and len(neg_files) == 1000)"
      ]
    },
    {
      "cell_type": "markdown",
      "metadata": {
        "id": "F3-7Jtm60WTd"
      },
      "source": [
        "### Setul de antrenare și setul de testare\n",
        "\n",
        "Vom folosi 80% din datele din fiecare clasă pentru antrenare și 20% pentru testare."
      ]
    },
    {
      "cell_type": "code",
      "execution_count": null,
      "metadata": {
        "collapsed": true,
        "id": "f0symaiq0WTd"
      },
      "outputs": [],
      "source": [
        "tr_pos_no = int(.8 * len(pos_files))\n",
        "tr_neg_no = int(.8 * len(neg_files))\n",
        "\n",
        "#from random import shuffle\n",
        "#shuffle(pos_files)\n",
        "#shuffle(neg_files)\n",
        "\n",
        "pos_train = pos_files[:tr_pos_no] # Recenzii pozitive pentru antrenare\n",
        "pos_test  = pos_files[tr_pos_no:] # Recenzii pozitive pentru testare\n",
        "neg_train = neg_files[:tr_neg_no] # Recenzii negative pentru antrenare\n",
        "neg_test  = neg_files[tr_neg_no:] # Recenzii negative pentru testare"
      ]
    },
    {
      "cell_type": "markdown",
      "metadata": {
        "id": "ua30vxbv0WTe"
      },
      "source": [
        "## Construirea vocabularului și calculul parametrilor\n",
        "\n",
        "Funcția `parse_document` primește calea către unul dinte fișierele aflate în arhivă și întoarce cuvintele din acest fișier (exceptând cuvintele cu o singură literă și pe cele din lista `STOP_WORDS`. Implementați funcția `count_words` astfel încât să întoarcă un dicționar cu o intrare pentru fiecare cuvânt care să conțină un tuplu cu două valori: numărul de apariții ale acelui cuvânt în rencezii pozitive și numărul de apariții în recenzii negative. În afara acelui dicționar se vor întoarce și numărul total de cuvinte din recenziile pozitive și numărul total de cuvinte din recenziile negative."
      ]
    },
    {
      "cell_type": "code",
      "execution_count": null,
      "metadata": {
        "colab": {
          "base_uri": "https://localhost:8080/"
        },
        "id": "SV32WLQy0WTe",
        "outputId": "17b41548-0a8c-43fe-c52b-584cae12a33a"
      },
      "outputs": [
        {
          "output_type": "stream",
          "name": "stdout",
          "text": [
            "Vocabularul are  44895  cuvinte.\n",
            "526267  cuvinte in recenziile pozitive si  469812  cuvinte in recenziile negative\n",
            "Cuvantul 'beautiful' are  (165, 75)  aparitii.\n",
            "Cuvantul 'awful' are  (16, 89)  aparitii.\n"
          ]
        }
      ],
      "source": [
        "STOP_WORDS = []\n",
        "#STOP_WORDS = [line.strip() for line in open(\"Lab12-stop_words.txt\")]\n",
        "\n",
        "import re\n",
        "\n",
        "def parse_document(path):\n",
        "    for word in re.findall(r\"[-\\w']+\", zipFile.read(path).decode(\"utf-8\")):\n",
        "        if len(word) > 1 and word not in STOP_WORDS:\n",
        "            yield word\n",
        "\n",
        "def count_words():\n",
        "    vocabulary = {}\n",
        "    pos_words_no = 0\n",
        "    neg_words_no = 0\n",
        "\n",
        "    # ------------------------------------------------------\n",
        "    # <TODO 1> numrati aparitiile in documente pozitive si\n",
        "    # in documente negative ale fiecarui cuvant, precum si numarul total\n",
        "    # de cuvinte din fiecare tip de recenzie\n",
        "\n",
        "    # ------------------------------------------------------\n",
        "\n",
        "    for files in pos_train:\n",
        "      for word in parse_document(files):\n",
        "        if word not in vocabulary:\n",
        "          vocabulary[word] = (0, 0)\n",
        "        vocabulary[word] = (vocabulary[word][0] + 1, vocabulary[word][1])\n",
        "        pos_words_no+=1\n",
        "\n",
        "    for files in neg_train:\n",
        "      for word in parse_document(files):\n",
        "        if word not in vocabulary:\n",
        "          vocabulary[word] = (0, 0)\n",
        "        vocabulary[word] = (vocabulary[word][0], vocabulary[word][1] + 1)\n",
        "        neg_words_no+=1\n",
        "\n",
        "    return (vocabulary, pos_words_no, neg_words_no)\n",
        "\n",
        "# -- VERIFICARE --\n",
        "training_result_words = count_words()\n",
        "\n",
        "(voc, p_no, n_no) = training_result_words\n",
        "print(\"Vocabularul are \", len(voc), \" cuvinte.\")\n",
        "print(p_no, \" cuvinte in recenziile pozitive si \", n_no, \" cuvinte in recenziile negative\")\n",
        "print(\"Cuvantul 'beautiful' are \", voc.get(\"beautiful\", (0, 0)), \" aparitii.\")\n",
        "print(\"Cuvantul 'awful' are \", voc.get(\"awful\", (0, 0)), \" aparitii.\")\n",
        "\n",
        "# Daca se comentează liniile care reordonează aleator listele cu exemplele pozitive și negative,\n",
        "# rezultatul așteptat este:\n",
        "#\n",
        "# Vocabularul are  44895  cuvinte.\n",
        "# 526267  cuvinte in recenziile pozitive si  469812  cuvinte in recenziile negative\n",
        "# Cuvantul 'beautiful' are  (165, 75)  aparitii.\n",
        "# Cuvantul 'awful' are  (16, 89)  aparitii."
      ]
    },
    {
      "cell_type": "markdown",
      "metadata": {
        "id": "t4da0QJw0WTe"
      },
      "source": [
        "### Predicția sentimentului unei recenzii noi\n",
        "\n",
        "Implementați funcția `predict` care primește parametrii `params` (vocabularul, numărul total de cuvinte din recenziile pozitive și numărul total de cuvinte din recenziile negative) și `path` (calea către o recenzie din cadrul arhivei) și întoarce clasa mai probabilă și logaritmul acelei probabilități. Al treilea argument (opțional) al funcției `predict` este coeficientul pentru netezire Laplace.\n",
        "\n",
        "Așa cum a fost explicat anterior, clasa pe care o prezice un clasificator **Naive Bayes** este dată de următoarea expresie:\n",
        "\n",
        "$$c_{NB} = \\underset{c \\in \\mathcal{C}}{\\arg\\max} P(c) \\cdot \\displaystyle \\prod_{i}^{K} P(x_i \\vert c)$$\n",
        "\n",
        "Pentru a evita lucrul cu numere foarte mici ce pot rezulta din produsul multor valori subunitare, vom logaritma expresiile date:\n",
        "\n",
        "$$c_{NB} = \\underset{c \\in \\mathcal{C}}{\\arg\\max} \\log(P(c)) + \\displaystyle\\sum_{i}^{K} \\log(P(x_i \\vert c))$$\n",
        "\n",
        "Pentru calculul probabilitatilor, vedeti sectiunea \"Estimarea parametrilor modelului Naive Bayes\", mai sus. În cod, `log_pos` și `log_neg` trebuie însumate cu logaritmul pentru fiecare exemplu -- $ \\log(P(c)) $ este deja adunat.\n"
      ]
    },
    {
      "cell_type": "code",
      "execution_count": null,
      "metadata": {
        "colab": {
          "base_uri": "https://localhost:8080/"
        },
        "id": "8KKLSxdF0WTe",
        "outputId": "f743ab1b-3827-4926-de40-fb6225238bf4"
      },
      "outputs": [
        {
          "output_type": "stream",
          "name": "stdout",
          "text": [
            "when i was asked to see this movie with a friend , my initial reaction was ? not hugh grant ! ' \n",
            "i was perhaps wrong to be so harsh , but after his insidious flirtation with a street hooker , i just could not picture him in any romantic lead . \n",
            "what makes this movie a wonderful experience is not the fact it stars hugh , but because it stars julia and carries with it a brilliantly written script . \n",
            "this writer richard curtis , whose exceptional first work ? four weddings and funeral' shows us that he is a master in the domain of the romantic comedy , with splashes of drama thrown in between . \n",
            "hugh and his hair , is almost identical to the character that made him famous in ? four weddings' . \n",
            "he plays an ordinary guy who is down and out on his luck . \n",
            "unfortunately , he is type cast in this role , but fortunately it works well for him in this movie . \n",
            "if only he would dither a little less . \n",
            "julia knows this role well . \n",
            "the glamorous movie star who is searching for true love . \n",
            "there are moments in this movie , that you almost weep for her pain felt loneliness . \n",
            "how sad it must be to be so wealthy and beautiful , but to have no one to share it with . \n",
            "the writer deals with difficult issues of love and social class on various levels . \n",
            "how differences in social standing can make it almost impossible for love to grow in such a harsh environment . \n",
            "how the media can be as cruel as it can be attentive , and how fulfilment in life and love can be found in forgiveness and sacrifice . \n",
            "\n"
          ]
        },
        {
          "output_type": "execute_result",
          "data": {
            "text/plain": [
              "('pos', -1790.27088356391)"
            ]
          },
          "metadata": {},
          "execution_count": 44
        }
      ],
      "source": [
        "from math import log\n",
        "\n",
        "def predict(params, path, alpha = 1):\n",
        "    (vocabulary, pos_words_no, neg_words_no) = params\n",
        "    log_pos = log(0.5)\n",
        "    log_neg = log(0.5)\n",
        "\n",
        "    # ----------------------------------------------------------------------\n",
        "    # <TODO 2> Calculul logaritmilor probabilităților\n",
        "    total_vocab_size = len(vocabulary)\n",
        "    for word in parse_document(path):\n",
        "      neg_count = vocabulary.get(word, [0, 0])[1]\n",
        "      pos_count = vocabulary.get(word, [0, 0])[0]\n",
        "\n",
        "      log_pos +=  log((pos_count + alpha) / (pos_words_no + alpha * total_vocab_size))\n",
        "      log_neg +=  log((neg_count + alpha) / (neg_words_no + alpha * total_vocab_size))\n",
        "\n",
        "    # ----------------------------------------------------------------------\n",
        "\n",
        "    if log_pos > log_neg:\n",
        "        return \"pos\", log_pos\n",
        "    else:\n",
        "        return \"neg\", log_neg\n",
        "\n",
        "# -- VERIFICARE --\n",
        "print(zipFile.read(pos_test[14]).decode(\"utf-8\"))\n",
        "predict(training_result_words, pos_test[14])\n",
        "\n",
        "# Daca se comentează liniile care reordonează aleator listele cu exemplele pozitive și negative,\n",
        "# rezultatul așteptat este:\n",
        "#\n",
        "# ('pos', -1790.27088356391) pentru un film cu Hugh Grant și Julia Roberts (o mizerie siropoasă)\n",
        "#\n",
        "# Recenzia este clasificată corect ca fiind pozitivă."
      ]
    },
    {
      "cell_type": "markdown",
      "metadata": {
        "id": "EzVTEGMH0WTf"
      },
      "source": [
        "## 3. Evaluarea modelului\n",
        "\n",
        "Pentru a evalua modelul vom calcula acuratețea acestuia și matricea de confuzie, folosind datele de test (`pos_test` și `neg_test`).\n",
        "\n",
        "[Vedeți aici despre matricea de confuzie](https://en.wikipedia.org/wiki/Confusion_matrix)"
      ]
    },
    {
      "cell_type": "code",
      "execution_count": null,
      "metadata": {
        "id": "w6N1qEW90WTf",
        "outputId": "0371cac8-0661-4935-dc40-7b9c8c444f6e",
        "colab": {
          "base_uri": "https://localhost:8080/"
        }
      },
      "outputs": [
        {
          "output_type": "stream",
          "name": "stdout",
          "text": [
            "Acuratetea pe setul de date de test:  80.5 %. Matricea de confuzie:\n",
            "    |     pos      |     neg    \n",
            "--- + ------------ + ------------\n",
            "pos |     155      |      45    \n",
            "neg |      33      |     167    \n"
          ]
        }
      ],
      "source": [
        "def evaluate(params, prediction_func):\n",
        "    conf_matrix = {}\n",
        "    conf_matrix[\"pos\"] = {\"pos\": 0, \"neg\": 0}\n",
        "    conf_matrix[\"neg\"] = {\"pos\": 0, \"neg\": 0}\n",
        "    correct_predictions = 0\n",
        "    total_predictions = 0\n",
        "\n",
        "    for path in pos_test:\n",
        "        pred, _ = prediction_func(params, path)\n",
        "        conf_matrix[\"pos\"][pred] += 1\n",
        "        if pred == \"pos\":\n",
        "            correct_predictions += 1\n",
        "        total_predictions += 1\n",
        "\n",
        "    for path in neg_test:\n",
        "        pred, _ = prediction_func(params, path)\n",
        "        conf_matrix[\"neg\"][pred] += 1\n",
        "        if pred == \"neg\":\n",
        "            correct_predictions += 1\n",
        "        total_predictions += 1\n",
        "\n",
        "    # Calculate accuracy\n",
        "    accuracy = correct_predictions / total_predictions\n",
        "\n",
        "    return accuracy, conf_matrix\n",
        "\n",
        "# Function to print the confusion matrix\n",
        "def print_confusion_matrix(cm):\n",
        "    print(\"    | \", \"{0:^10}\".format(\"pos\"), \" | \", \"{0:^10}\".format(\"neg\"))\n",
        "    print(\"{0:-^3}\".format(\"\"), \"+\", \"{0:-^12}\".format(\"\"), \"+\", \"{0:-^12}\".format(\"-\"))\n",
        "    print(\"pos | \", \"{0:^10}\".format(cm[\"pos\"][\"pos\"]), \" | \", \"{0:^10}\".format(cm[\"pos\"][\"neg\"]))\n",
        "    print(\"neg | \", \"{0:^10}\".format(cm[\"neg\"][\"pos\"]), \" | \", \"{0:^10}\".format(cm[\"neg\"][\"neg\"]))\n",
        "\n",
        "# Verification\n",
        "(acc_words, cm_words) = evaluate(training_result_words, predict)\n",
        "print(\"Acuratetea pe setul de date de test: \", acc_words * 100, \"%. Matricea de confuzie:\")\n",
        "print_confusion_matrix(cm_words)\n",
        "\n",
        "# Expected results if shuffling lines are commented out\n",
        "# Acuratetea pe setul de date de test:  80.5 %. Matricea de confuzie:\n",
        "#     |     pos      |     neg\n",
        "# --- + ------------ + ------------\n",
        "# pos |     155      |      45\n",
        "# neg |      33      |     167\n"
      ]
    },
    {
      "cell_type": "markdown",
      "metadata": {
        "id": "a3sZJoFR0WTf"
      },
      "source": [
        "## 4. Un model mai bun? Să folosim bigrame? Da!\n",
        "\n",
        "Implementați funcția `count_bigrams`, similară cu `count_words`, doar că de data aceasta dicționarul va conține bigramele din text. Funcția va întoarce tot trei elemente: dicționarul cu aparițiile în recenzii pozitive și în recenzii negative ale bigramelor, numărul total de bigrame din recenziile pozitive și numărul total de bigrame din recenziile negative.\n",
        "\n",
        "Salvați o bigramă prin concatenarea primului cuvânt, semnului \":\" și a celui de-al doilea cuvânt. De exemplu: `\"texas:ranger\"`."
      ]
    },
    {
      "cell_type": "code",
      "execution_count": null,
      "metadata": {
        "id": "_wTmwo4q0WTg",
        "outputId": "a77572bf-4b18-41b2-90a5-a8395ef697c3",
        "colab": {
          "base_uri": "https://localhost:8080/"
        }
      },
      "outputs": [
        {
          "output_type": "stream",
          "name": "stdout",
          "text": [
            "Tabelul are  428997  bigrame.\n",
            "525467  bigrame in recenziile pozitive si  469012  bigrame in recenziile negative\n",
            "Bigrama 'beautiful actress' are  (2, 0)  aparitii.\n",
            "Bigrama 'awful movie' are  (1, 4)  aparitii.\n"
          ]
        }
      ],
      "source": [
        "def count_bigrams():\n",
        "    bigrams = {}\n",
        "    pos_bigrams_no = 0\n",
        "    neg_bigrams_no = 0\n",
        "\n",
        "    # ----------------------------------------------------------------------\n",
        "    # <TODO 4>: Numarati bigramele\n",
        "    for files in pos_train:\n",
        "      text = list(parse_document(files))\n",
        "      size = len(text) - 1\n",
        "      for i in range(size):\n",
        "        big = text[i] + \":\" + text[i + 1]\n",
        "        if big not in bigrams:\n",
        "          bigrams[big] = (0, 0)\n",
        "        bigrams[big] = (bigrams[big][0] + 1, bigrams[big][1])\n",
        "        pos_bigrams_no+=1\n",
        "\n",
        "    for files in neg_train:\n",
        "      text = list(parse_document(files))\n",
        "      size = len(text) - 1\n",
        "      for i in range(size):\n",
        "        big = text[i] + \":\" + text[i + 1]\n",
        "        if big not in bigrams:\n",
        "          bigrams[big] = (0, 0)\n",
        "        bigrams[big] = (bigrams[big][0], bigrams[big][1] + 1)\n",
        "        neg_bigrams_no+=1\n",
        "    #-----------------------------------------------\n",
        "\n",
        "    return bigrams, pos_bigrams_no, neg_bigrams_no\n",
        "\n",
        "# -- VERIFICARE --\n",
        "training_result_bigrams = count_bigrams()\n",
        "\n",
        "(big, pos_b, neg_b) = training_result_bigrams\n",
        "print(\"Tabelul are \", len(big), \" bigrame.\")\n",
        "print(pos_b, \" bigrame in recenziile pozitive si \", neg_b, \" bigrame in recenziile negative\")\n",
        "print(\"Bigrama 'beautiful actress' are \", big.get(\"beautiful:actress\", (0, 0)), \" aparitii.\")\n",
        "print(\"Bigrama 'awful movie' are \", big.get(\"awful:movie\", (0, 0)), \" aparitii.\")\n",
        "\n",
        "# Daca se comentează liniile care reordonează aleator listele cu exemplele pozitive și negative,\n",
        "# rezultatul așteptat este:\n",
        "#\n",
        "# Tabelul are  428997  bigrame.\n",
        "# 525467  bigrame in recenziile pozitive si  469012  bigrame in recenziile negative\n",
        "# Bigrama 'beautiful actress' are  (2, 0)  aparitii.\n",
        "# Bigrama 'awful movie' are  (1, 4)  aparitii."
      ]
    },
    {
      "cell_type": "markdown",
      "metadata": {
        "id": "3zkEdZPj0WTh"
      },
      "source": [
        "### Funcția de predicție folosind bigrame\n",
        "\n",
        "Implementați funcția `predict2` care să calculeze logaritmul probabilității fiecărei clase pe baza bigramelor din text. Trebuie să calculați `log_pos` și `log_neg`."
      ]
    },
    {
      "cell_type": "code",
      "execution_count": null,
      "metadata": {
        "id": "hgepAjpI0WTh",
        "outputId": "7ab88fc5-ee4c-4ade-b78c-f4451b7816bb",
        "colab": {
          "base_uri": "https://localhost:8080/"
        }
      },
      "outputs": [
        {
          "output_type": "stream",
          "name": "stdout",
          "text": [
            "when i was asked to see this movie with a friend , my initial reaction was ? not hugh grant ! ' \n",
            "i was perhaps wrong to be so harsh , but after his insidious flirtation with a street hooker , i just could not picture him in any romantic lead . \n",
            "what makes this movie a wonderful experience is not the fact it stars hugh , but because it stars julia and carries with it a brilliantly written script . \n",
            "this writer richard curtis , whose exceptional first work ? four weddings and funeral' shows us that he is a master in the domain of the romantic comedy , with splashes of drama thrown in between . \n",
            "hugh and his hair , is almost identical to the character that made him famous in ? four weddings' . \n",
            "he plays an ordinary guy who is down and out on his luck . \n",
            "unfortunately , he is type cast in this role , but fortunately it works well for him in this movie . \n",
            "if only he would dither a little less . \n",
            "julia knows this role well . \n",
            "the glamorous movie star who is searching for true love . \n",
            "there are moments in this movie , that you almost weep for her pain felt loneliness . \n",
            "how sad it must be to be so wealthy and beautiful , but to have no one to share it with . \n",
            "the writer deals with difficult issues of love and social class on various levels . \n",
            "how differences in social standing can make it almost impossible for love to grow in such a harsh environment . \n",
            "how the media can be as cruel as it can be attentive , and how fulfilment in life and love can be found in forgiveness and sacrifice . \n",
            "\n"
          ]
        },
        {
          "output_type": "execute_result",
          "data": {
            "text/plain": [
              "('pos', -3034.428732037113)"
            ]
          },
          "metadata": {},
          "execution_count": 53
        }
      ],
      "source": [
        "def predict2(params, path, alpha = 1):\n",
        "    (bigrams, pos_bigrams_no, neg_bigrams_no) = params\n",
        "    log_pos = log(0.5)\n",
        "    log_neg = log(0.5)\n",
        "\n",
        "    # ----------------------------------------------------------------------\n",
        "    # <TODO 5> Calculul logaritmilor probabilităților folosind bigramele\n",
        "    total_vocab_size_bigrams = len(bigrams)\n",
        "    text = list(parse_document(path))\n",
        "    size = len(text) - 1\n",
        "    for i in range(size):\n",
        "      big = text[i] + \":\" + text[i + 1]\n",
        "      neg_count_bigrams = bigrams.get(big, [0, 0])[1]\n",
        "      pos_count_bigrams = bigrams.get(big, [0, 0])[0]\n",
        "\n",
        "      log_pos += log((pos_count_bigrams + alpha) / (pos_bigrams_no + alpha * total_vocab_size_bigrams))\n",
        "      log_neg += log((neg_count_bigrams + alpha) / (neg_bigrams_no + alpha * total_vocab_size_bigrams))\n",
        "\n",
        "    # ----------------------------------------------------------------------\n",
        "\n",
        "    if log_pos > log_neg:\n",
        "        return \"pos\", log_pos\n",
        "    else:\n",
        "        return \"neg\", log_neg\n",
        "\n",
        "# -- VERIFICARE --\n",
        "print(zipFile.read(pos_test[14]).decode(\"utf-8\"))\n",
        "predict2(training_result_bigrams, pos_test[14])\n",
        "\n",
        "# Daca se comentează liniile care reordonează aleator listele cu exemplele pozitive și negative,\n",
        "# rezultatul așteptat este:\n",
        "#\n",
        "# ('pos', -3034.428732037113) pentru același film cu Hugh Grant"
      ]
    },
    {
      "cell_type": "code",
      "execution_count": null,
      "metadata": {
        "id": "IWRJWrd_0WTh",
        "outputId": "9ee9a635-6c7d-4505-8a75-da66b5ca838a",
        "colab": {
          "base_uri": "https://localhost:8080/"
        }
      },
      "outputs": [
        {
          "output_type": "stream",
          "name": "stdout",
          "text": [
            "Acuratetea pe setul de date de test, cu bigrame:  84.5 %. Matricea de confuzie:\n",
            "    |     pos      |     neg    \n",
            "--- + ------------ + ------------\n",
            "pos |     161      |      39    \n",
            "neg |      23      |     177    \n"
          ]
        }
      ],
      "source": [
        "# -- VERIFICARE --\n",
        "(acc_bigrams, cm_bigrams) = evaluate(training_result_bigrams, predict2)\n",
        "print(\"Acuratetea pe setul de date de test, cu bigrame: \", acc_bigrams * 100, \"%. Matricea de confuzie:\")\n",
        "print_confusion_matrix(cm_bigrams)\n",
        "\n",
        "# Daca se comentează liniile care reordonează aleator listele cu exemplele pozitive și negative,\n",
        "# rezultatul așteptat este:\n",
        "#\n",
        "# Acuratetea pe setul de date de test:  84.5 %. Matricea de confuzie:\n",
        "#     |     pos      |     neg\n",
        "# --- + ------------ + ------------\n",
        "# pos |     161      |      39\n",
        "# neg |      23      |     177"
      ]
    },
    {
      "cell_type": "markdown",
      "metadata": {
        "id": "IUoxW7r60WTi"
      },
      "source": [
        "## La final...\n",
        "\n",
        " 1. Decomentați liniile care reordonează aleator listele cu exemplele pozitive și cele negative (secțiunea \"Setul de antrenare și setul de testare\"). Rulați de mai multe ori. Este întotdeauna mai bun modelul cu bigrame? Acuratețea variază mult de la o rulare la alta?\n",
        " 2. Încercați să eliminați cuvintele de legătură (linia cu `STOP_WORDS`, din secțiunea \"Construirea vocabularului...\"). Ce impact are asupra performanței celor două modele?"
      ]
    },
    {
      "cell_type": "code",
      "execution_count": null,
      "metadata": {
        "id": "QzBeoo5v0WTi",
        "outputId": "c1ad8aa4-3360-40fa-937e-22a15437bd69",
        "colab": {
          "base_uri": "https://localhost:8080/"
        }
      },
      "outputs": [
        {
          "output_type": "stream",
          "name": "stdout",
          "text": [
            "Acuratetea pe setul de date de test, cu cuvinte simple:  80.5 %. Matricea de confuzie:\n",
            "    |     pos      |     neg    \n",
            "--- + ------------ + ------------\n",
            "pos |     155      |      45    \n",
            "neg |      33      |     167    \n",
            "\n",
            "\n",
            "Acuratetea pe setul de date de test, cu bigrame:  84.5 %. Matricea de confuzie:\n",
            "    |     pos      |     neg    \n",
            "--- + ------------ + ------------\n",
            "pos |     161      |      39    \n",
            "neg |      23      |     177    \n"
          ]
        }
      ],
      "source": [
        "print(\"Acuratetea pe setul de date de test, cu cuvinte simple: \", acc_words * 100, \"%. Matricea de confuzie:\")\n",
        "print_confusion_matrix(cm_words)\n",
        "\n",
        "print(\"\\n\\nAcuratetea pe setul de date de test, cu bigrame: \", acc_bigrams * 100, \"%. Matricea de confuzie:\")\n",
        "print_confusion_matrix(cm_bigrams)\n"
      ]
    },
    {
      "cell_type": "code",
      "execution_count": null,
      "metadata": {
        "collapsed": true,
        "id": "lTYXgPYP0WTj"
      },
      "outputs": [],
      "source": []
    }
  ],
  "metadata": {
    "kernelspec": {
      "display_name": "Python 3",
      "language": "python",
      "name": "python3"
    },
    "language_info": {
      "codemirror_mode": {
        "name": "ipython",
        "version": 3
      },
      "file_extension": ".py",
      "mimetype": "text/x-python",
      "name": "python",
      "nbconvert_exporter": "python",
      "pygments_lexer": "ipython3",
      "version": "3.8.8"
    },
    "colab": {
      "provenance": []
    }
  },
  "nbformat": 4,
  "nbformat_minor": 0
}