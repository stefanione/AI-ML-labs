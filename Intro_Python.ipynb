{
  "cells": [
    {
      "cell_type": "markdown",
      "metadata": {
        "id": "pAbOYrCmn1IX"
      },
      "source": [
        "## Inteligență Artificială  Laboratorul 1 : Introducere în Python\n",
        "\n",
        "\n",
        "- Cătălin Chiru: <cata.chiru99@gmail.com>\n",
        "- Mihai Nan: <mihai.nan@upb.ro>\n"
      ]
    },
    {
      "cell_type": "markdown",
      "metadata": {
        "id": "jAFHhLGun1IZ"
      },
      "source": [
        "Conținuturi:\n",
        "* liste\n",
        "* dicționare\n",
        "* numpy\n",
        "* funcții\n",
        "* tupluri"
      ]
    },
    {
      "cell_type": "markdown",
      "metadata": {
        "id": "B2Gc28jmzNDK"
      },
      "source": [
        "# <u> Tutorial [20p] </u>"
      ]
    },
    {
      "cell_type": "markdown",
      "metadata": {
        "id": "qLESCIYvn1IZ"
      },
      "source": [
        "# <u> Importuri </u>"
      ]
    },
    {
      "cell_type": "markdown",
      "metadata": {
        "id": "16PgA8l1n1Ia"
      },
      "source": [
        "Importurile sunt descarcate utilizand pip, un sistem de management al pachetelor pentru Python."
      ]
    },
    {
      "cell_type": "markdown",
      "metadata": {
        "id": "YqlBxP1on1Ia"
      },
      "source": [
        "---\n",
        "**Observație**:\n",
        "\n",
        "Nu este necesar sa rulati instalarea importurilor la fiecare rulare a notebook-ului. Ele sunt deja instalate in mediu.\n",
        "\n",
        "De aceea, acestea sunt adesea pozitionate la inceputul notebook-ului.\n",
        "\n",
        "___\n"
      ]
    },
    {
      "cell_type": "code",
      "execution_count": 1,
      "metadata": {
        "colab": {
          "base_uri": "https://localhost:8080/"
        },
        "id": "BC__6ENkn1Ib",
        "outputId": "0261152e-5af0-4ae7-b236-1bfcc978bab9"
      },
      "outputs": [
        {
          "output_type": "stream",
          "name": "stdout",
          "text": [
            "Requirement already satisfied: numpy in /usr/local/lib/python3.10/dist-packages (1.25.2)\n",
            "Collecting unidecode\n",
            "  Downloading Unidecode-1.3.8-py3-none-any.whl (235 kB)\n",
            "\u001b[2K     \u001b[90m━━━━━━━━━━━━━━━━━━━━━━━━━━━━━━━━━━━━━━━━\u001b[0m \u001b[32m235.5/235.5 kB\u001b[0m \u001b[31m2.7 MB/s\u001b[0m eta \u001b[36m0:00:00\u001b[0m\n",
            "\u001b[?25hInstalling collected packages: unidecode\n",
            "Successfully installed unidecode-1.3.8\n"
          ]
        }
      ],
      "source": [
        "# !pip install functools\n",
        "# !pip install pickle\n",
        "!pip install numpy #numpy==1.16.1 (Anumite pachete au nevoie de compatibilitatea versiunilor,\n",
        "                   #               în comentarii am specificat modul prin care putem forța instalarea unei versiuni specifice)\n",
        "\n",
        "!pip install unidecode\n",
        "# !pip install pandas\n",
        "# !pip install copy"
      ]
    },
    {
      "cell_type": "markdown",
      "metadata": {
        "id": "m4OvonMpn1Ib"
      },
      "source": [
        "Putem sa importam fie un intreg modul, fie doar functiile sau clasele din acel modul pe care dorim sa le folosim (Opțiune aleasă din considerente de memorie și lizibilitate a codului).  \n"
      ]
    },
    {
      "cell_type": "code",
      "execution_count": 2,
      "metadata": {
        "id": "2lpmsPOHn1Ib"
      },
      "outputs": [],
      "source": [
        "from functools import reduce\n",
        "import re\n",
        "from unidecode import unidecode\n",
        "import pickle as pkl # Putem folosi aliasuri pentru a scurta numele unor module utilizate\n",
        "import numpy as np\n",
        "import pandas as pd\n",
        "from copy import deepcopy"
      ]
    },
    {
      "cell_type": "markdown",
      "metadata": {
        "id": "2ST1ePm_P5W3"
      },
      "source": [
        "# <u> Variabile </u>"
      ]
    },
    {
      "cell_type": "code",
      "execution_count": 3,
      "metadata": {
        "id": "VTQ-xN2RTcVm"
      },
      "outputs": [],
      "source": [
        "var = 5"
      ]
    },
    {
      "cell_type": "markdown",
      "metadata": {
        "id": "tWf6MsD_XPT7"
      },
      "source": [
        "În cadrul modulelor de deep learning, o prima etapă a debuggingului în cazul erorilor din timpul rulării programului (`Runtime Errors`) o reprezintă printarea tipurilor de date curente și așteptate."
      ]
    },
    {
      "cell_type": "code",
      "execution_count": 4,
      "metadata": {
        "colab": {
          "base_uri": "https://localhost:8080/"
        },
        "id": "cyQNGZyETnqA",
        "outputId": "beab5797-ab9a-46ad-c3b5-8f3d6dc4e17d"
      },
      "outputs": [
        {
          "output_type": "execute_result",
          "data": {
            "text/plain": [
              "int"
            ]
          },
          "metadata": {},
          "execution_count": 4
        }
      ],
      "source": [
        "type(var) # Intoarce tipul cel mai general care poate fi inferat din variabila"
      ]
    },
    {
      "cell_type": "markdown",
      "metadata": {
        "id": "wcQ-jE-rn1Id"
      },
      "source": [
        "Pentru o mai buna vizibilitate, putem tipa variabilele:"
      ]
    },
    {
      "cell_type": "code",
      "execution_count": 5,
      "metadata": {
        "colab": {
          "base_uri": "https://localhost:8080/"
        },
        "id": "roG9KJv4TvzY",
        "outputId": "d0b96b75-69be-4e58-ac8b-ca63cbca12ab"
      },
      "outputs": [
        {
          "output_type": "execute_result",
          "data": {
            "text/plain": [
              "int"
            ]
          },
          "metadata": {},
          "execution_count": 5
        }
      ],
      "source": [
        "var : int = 5\n",
        "\n",
        "type(var)"
      ]
    },
    {
      "cell_type": "markdown",
      "metadata": {
        "id": "BgknsM-Rn1Ie"
      },
      "source": [
        "Însă, python este suficient de permisiv și nu va produce erori dacă tipul variabilei nu concordă, căutând să convertească tipul variabilei la cel mai general tip care face matching cu toate elementele listei:"
      ]
    },
    {
      "cell_type": "code",
      "execution_count": 6,
      "metadata": {
        "colab": {
          "base_uri": "https://localhost:8080/"
        },
        "id": "W0u6e6JuT5wd",
        "outputId": "9d0c0e64-8659-419e-ab93-035ee72b9df4"
      },
      "outputs": [
        {
          "output_type": "execute_result",
          "data": {
            "text/plain": [
              "str"
            ]
          },
          "metadata": {},
          "execution_count": 6
        }
      ],
      "source": [
        "var2 : int = \"abc\"\n",
        "\n",
        "type(var2)"
      ]
    },
    {
      "cell_type": "markdown",
      "metadata": {
        "id": "NdX-i1hFrqxw"
      },
      "source": [
        "___\n",
        "**Observație:** Celulele unui Jupyter Notebook sunt executate de obicei într-o maniera top-down, iar datele calculate sau variabilele definite într-o celulă sunt păstrate local, în memoria notebook-ului și sunt disponibile în celulele ulterioare din cadrul aceluiași document.\n",
        "\n",
        "Acest comportament permite utilizatorilor să acceseze și să reutilizeze rezultatele sau variabilele definite anterior.\n",
        "\n",
        "Aveți mare grijă în momentul în care faceți debugging în celule inferioare celulei unde vă efectuați workflow-ul curent la efectele laterale pe care le produceți asupra variabilelor de interes.\n",
        "\n",
        "---"
      ]
    },
    {
      "cell_type": "code",
      "execution_count": 7,
      "metadata": {
        "colab": {
          "base_uri": "https://localhost:8080/"
        },
        "id": "C2PNT_88V9kN",
        "outputId": "eb782410-1211-4fdb-b9d2-aa2bbcf434c9"
      },
      "outputs": [
        {
          "output_type": "execute_result",
          "data": {
            "text/plain": [
              "7"
            ]
          },
          "metadata": {},
          "execution_count": 7
        }
      ],
      "source": [
        "# Putem accesa variabila \"var\", care a fost definita mai sus\n",
        "var + 2"
      ]
    },
    {
      "cell_type": "markdown",
      "metadata": {
        "id": "x3-EVVBCYObL"
      },
      "source": [
        "# <u> Printare </u>"
      ]
    },
    {
      "cell_type": "markdown",
      "metadata": {
        "id": "4eeTeK1dYReA"
      },
      "source": [
        "După cum ați putut observa, în cadrul celulelor de Jupyter Notebook există o manieră implicită de a printa o variabilă sau rezultatul unei funcții, plasând-o la sfârșitul celulei, în afara unei definiții (similar comportamentului Matlab studiat la MN)\n",
        "\n",
        "O manieră explicită prin care putem printa, oriunde în interiorul celulei se realizează utilizând funcția \"print\" și modurile sale de formatare introduse o dată cu Python3.X"
      ]
    },
    {
      "cell_type": "code",
      "execution_count": 8,
      "metadata": {
        "colab": {
          "base_uri": "https://localhost:8080/"
        },
        "id": "7Iy7eu03ZpIn",
        "outputId": "ee3139ef-bc72-4e4a-96cb-4b0ecc653b5f"
      },
      "outputs": [
        {
          "output_type": "stream",
          "name": "stdout",
          "text": [
            "Variabila de mai sus: 5 printată de la începutul celulei\n",
            "Aceeași Mărie: valoarea 0.0123\n",
            "Aceeași Mărie: valoarea 0.0123\n",
            "Aceeași Mărie cu altă pălărie: valoarea 1.23e-02\n"
          ]
        }
      ],
      "source": [
        "print(\"Variabila de mai sus:\", var, \"printată de la începutul celulei\")\n",
        "\n",
        "nume = \"Mărie\"\n",
        "\n",
        "var_float = 0.0123\n",
        "\n",
        "print(\"Aceeași {}: valoarea {}\".format(nume, var_float))\n",
        "\n",
        "# f din fața stringului esete un macro pentru apelarea cu variabile in-place a funcției de formatare\n",
        "print(f\"Aceeași {nume}: valoarea {var_float}\")\n",
        "\n",
        "print(f\"Aceeași {nume} cu altă pălărie: valoarea {var_float:.2e}\")"
      ]
    },
    {
      "cell_type": "markdown",
      "metadata": {
        "id": "aLibaDp8a_nj"
      },
      "source": [
        "  Observăm că, prin folosirea indicației `{:2e}` am determinat printarea `var_float` în format stiințific, de tip  `mantisă`<mark>e</mark>`exponent`"
      ]
    },
    {
      "cell_type": "markdown",
      "metadata": {
        "id": "vS3UJhV8n1Ic"
      },
      "source": [
        "# <u> Liste  </u>"
      ]
    },
    {
      "cell_type": "markdown",
      "metadata": {
        "id": "MQAPf0qHn1Ic"
      },
      "source": [
        "Echivalentul array-urilor din Java, sau a vectorilor din C++, sunt colecții de elemente.\n",
        "\n",
        "Datorita sintezei de tipuri din Python, listele pot conține elemente de tipuri diferite, spre deosebire de structurile echivalente din alte limbaje de programare.\n",
        "\n",
        "Totodată, în Python, string-urile sunt considerate liste de caractere și se pot folosi aceleași operații pe care urmează să le prezentăm + altele specifice string-urilor."
      ]
    },
    {
      "cell_type": "code",
      "execution_count": 9,
      "metadata": {
        "id": "aJ9dfHI5n1Ic"
      },
      "outputs": [],
      "source": [
        "lista_polimorfica = [1, 'string', [1,2,4], None]"
      ]
    },
    {
      "cell_type": "code",
      "execution_count": 10,
      "metadata": {
        "id": "RCPYdqyNn1Id"
      },
      "outputs": [],
      "source": [
        "lista_int : list[int] = [1, 2, 3, 4, 5]"
      ]
    },
    {
      "cell_type": "code",
      "execution_count": 11,
      "metadata": {
        "id": "yzfGUQq6n1Ie"
      },
      "outputs": [],
      "source": [
        "lista_polimorfica2: list[int] = [1, 'string', [1,2,4], None]"
      ]
    },
    {
      "cell_type": "code",
      "execution_count": 12,
      "metadata": {
        "colab": {
          "base_uri": "https://localhost:8080/"
        },
        "id": "sb3STkRan1Ie",
        "outputId": "e28876a5-76e9-44c1-bc46-b10d33db196e"
      },
      "outputs": [
        {
          "output_type": "execute_result",
          "data": {
            "text/plain": [
              "list"
            ]
          },
          "metadata": {},
          "execution_count": 12
        }
      ],
      "source": [
        "type(lista_polimorfica2) # Aceeași discuție ca în cazul variabilelor"
      ]
    },
    {
      "cell_type": "markdown",
      "metadata": {
        "id": "NIfwSqZmn1Ie"
      },
      "source": [
        "### <u> Indexare și slicing </u>"
      ]
    },
    {
      "cell_type": "code",
      "execution_count": 13,
      "metadata": {
        "colab": {
          "base_uri": "https://localhost:8080/"
        },
        "id": "OdLqi6HZn1Ie",
        "outputId": "0b5a2163-1fdb-4676-e64b-6972d142c720"
      },
      "outputs": [
        {
          "output_type": "execute_result",
          "data": {
            "text/plain": [
              "[1, 2, 3, 4, 5]"
            ]
          },
          "metadata": {},
          "execution_count": 13
        }
      ],
      "source": [
        "lista_int"
      ]
    },
    {
      "cell_type": "code",
      "execution_count": 14,
      "metadata": {
        "colab": {
          "base_uri": "https://localhost:8080/"
        },
        "id": "OEO1gV-Tn1If",
        "outputId": "66f4543a-e02d-40ff-ddc9-760029c92233"
      },
      "outputs": [
        {
          "output_type": "execute_result",
          "data": {
            "text/plain": [
              "1"
            ]
          },
          "metadata": {},
          "execution_count": 14
        }
      ],
      "source": [
        "# Listele sunt indexate de la 0\n",
        "\n",
        "lista_int[0]"
      ]
    },
    {
      "cell_type": "code",
      "execution_count": 15,
      "metadata": {
        "colab": {
          "base_uri": "https://localhost:8080/"
        },
        "id": "JgEDyVOOn1If",
        "outputId": "fcd796e8-0bba-40d6-a6f9-72263fb27983"
      },
      "outputs": [
        {
          "output_type": "execute_result",
          "data": {
            "text/plain": [
              "5"
            ]
          },
          "metadata": {},
          "execution_count": 15
        }
      ],
      "source": [
        "# Putem folosi indecși negativi pentru a accesa elementele de la sfârșitul listei spre început\n",
        "\n",
        "lista_int[-1]"
      ]
    },
    {
      "cell_type": "code",
      "execution_count": 16,
      "metadata": {
        "colab": {
          "base_uri": "https://localhost:8080/"
        },
        "id": "YU-uIHPgn1If",
        "outputId": "a850762b-dbda-4635-dd5c-67bb950bbd93"
      },
      "outputs": [
        {
          "output_type": "execute_result",
          "data": {
            "text/plain": [
              "[2, 3, 4]"
            ]
          },
          "metadata": {},
          "execution_count": 16
        }
      ],
      "source": [
        "# Sau putem folosi slice-uri pentru a accesa o porțiune din listă\n",
        "\n",
        "lista_int[1:4]"
      ]
    },
    {
      "cell_type": "code",
      "execution_count": 17,
      "metadata": {
        "colab": {
          "base_uri": "https://localhost:8080/",
          "height": 36
        },
        "id": "sw-0Fe1Jn1Ig",
        "outputId": "88da1693-325b-4fec-e8f5-aaa2af0a6ee6"
      },
      "outputs": [
        {
          "output_type": "execute_result",
          "data": {
            "text/plain": [
              "'Ana'"
            ],
            "application/vnd.google.colaboratory.intrinsic+json": {
              "type": "string"
            }
          },
          "metadata": {},
          "execution_count": 17
        }
      ],
      "source": [
        "exemplu_string = \"Ana are mere\"\n",
        "\n",
        "exemplu_string[0:3]"
      ]
    },
    {
      "cell_type": "markdown",
      "metadata": {
        "id": "Vkk4bOzIn1Ig"
      },
      "source": [
        "### <u> Operații cu liste </u>"
      ]
    },
    {
      "cell_type": "markdown",
      "metadata": {
        "id": "403CpyTTn1Ig"
      },
      "source": [
        "Operațiile de bază pe care le putem face cu liste sunt:\n",
        "* stabilirea numarului de elemente din lista - `len(lista)`\n",
        "* adăugarea unui element la finalul listei - `lista.append(element)`\n",
        "* adăugarea unui element la o anumită poziție - `lista.insert(index, element)`\n",
        "* ștergerea unui element de pe o anumită poziție - `lista.pop(index)`\n",
        "* ștergerea unui element cu o anumită valoare - `lista.remove(element)`\n",
        "* concatenarea a două liste - `lista1 + lista2`, sau `lista1.extend(lista2)`\n",
        "* repetarea unui pattern de elemente - `lista * n`\n",
        "\n",
        "Alte operații mai puțin uzuale, pot fi găsite în [Documentația Python pentru liste](https://docs.python.org/3/tutorial/datastructures.html)"
      ]
    },
    {
      "cell_type": "code",
      "execution_count": 18,
      "metadata": {
        "colab": {
          "base_uri": "https://localhost:8080/"
        },
        "id": "K8JYBXPUeRjY",
        "outputId": "6a637412-5b17-4dec-9f78-86fafd6f59bd"
      },
      "outputs": [
        {
          "output_type": "execute_result",
          "data": {
            "text/plain": [
              "5"
            ]
          },
          "metadata": {},
          "execution_count": 18
        }
      ],
      "source": [
        "len(lista_int)"
      ]
    },
    {
      "cell_type": "code",
      "execution_count": 19,
      "metadata": {
        "colab": {
          "base_uri": "https://localhost:8080/"
        },
        "id": "ehX6UKnhn1Ih",
        "outputId": "a7778d7e-1d09-4a2e-b72d-f0505c1ec767"
      },
      "outputs": [
        {
          "output_type": "execute_result",
          "data": {
            "text/plain": [
              "[1, 2, 3, 4, 5, 6]"
            ]
          },
          "metadata": {},
          "execution_count": 19
        }
      ],
      "source": [
        "lista_int.append(6)\n",
        "\n",
        "lista_int"
      ]
    },
    {
      "cell_type": "markdown",
      "metadata": {
        "id": "mGZrHVxjn1Ii"
      },
      "source": [
        "---\n",
        "**Observație**:\n",
        "\n",
        "Inserarea se face intr-o maniera OOP, asupra obiectului de la referința spre care pointează lista_int.\n",
        "\n",
        "O eroare comuna este provocata de sintaxa:\n",
        "\n",
        "<code>\n",
        "lista_int = lista_int.append(6) - in acest caz, lista_int va deveni None, deoarece lista_int.append(6) returneaza None\n",
        "</code>\n",
        "\n",
        "___\n"
      ]
    },
    {
      "cell_type": "code",
      "execution_count": 20,
      "metadata": {
        "colab": {
          "base_uri": "https://localhost:8080/"
        },
        "id": "mNR81jhtn1Ii",
        "outputId": "9d3e7cc6-3fc2-49f6-a7c6-6b8763189bbe"
      },
      "outputs": [
        {
          "output_type": "execute_result",
          "data": {
            "text/plain": [
              "[1, 2, -14, 3, 4, 5, 6]"
            ]
          },
          "metadata": {},
          "execution_count": 20
        }
      ],
      "source": [
        "lista_int.insert(2, -14)\n",
        "\n",
        "lista_int"
      ]
    },
    {
      "cell_type": "code",
      "execution_count": 21,
      "metadata": {
        "colab": {
          "base_uri": "https://localhost:8080/"
        },
        "id": "3fDrbwv4n1Ii",
        "outputId": "306b2901-106e-4381-ead0-b89e8435e312"
      },
      "outputs": [
        {
          "output_type": "execute_result",
          "data": {
            "text/plain": [
              "[1, 2, -14, 3, 4, 5, 6, 7, 8, 9]"
            ]
          },
          "metadata": {},
          "execution_count": 21
        }
      ],
      "source": [
        "lista_int.extend([7, 8, 9])\n",
        "\n",
        "lista_int"
      ]
    },
    {
      "cell_type": "code",
      "execution_count": 22,
      "metadata": {
        "colab": {
          "base_uri": "https://localhost:8080/"
        },
        "id": "MVpFi0IIn1Ii",
        "outputId": "01e51009-396e-4c58-d77c-bf8511e814c4"
      },
      "outputs": [
        {
          "output_type": "execute_result",
          "data": {
            "text/plain": [
              "[1, 2, -14, 3, 4, 5, 6, 7, 8, 9, 10, 11, 12, 13, 14, 15]"
            ]
          },
          "metadata": {},
          "execution_count": 22
        }
      ],
      "source": [
        "lista_int =  lista_int + [10, 11, 12]\n",
        "lista_int += [13, 14, 15] # Mod echivalent de concatenare a listelor\n",
        "\n",
        "lista_int"
      ]
    },
    {
      "cell_type": "code",
      "execution_count": 23,
      "metadata": {
        "colab": {
          "base_uri": "https://localhost:8080/"
        },
        "id": "LOMxeMbtn1Ii",
        "outputId": "29c698bb-a379-4569-82ad-f5dcf50bbb9a"
      },
      "outputs": [
        {
          "output_type": "execute_result",
          "data": {
            "text/plain": [
              "(-14, [1, 2, 3, 4, 5, 6, 7, 8, 9, 10, 11, 12, 13, 14, 15])"
            ]
          },
          "metadata": {},
          "execution_count": 23
        }
      ],
      "source": [
        "element_scos = lista_int.pop(2)\n",
        "\n",
        "element_scos, lista_int # Putem observa ca aceasta sintaxa printeaza la consola un tuplu"
      ]
    },
    {
      "cell_type": "code",
      "execution_count": 24,
      "metadata": {
        "colab": {
          "base_uri": "https://localhost:8080/"
        },
        "id": "_ZOUQV9An1Ij",
        "outputId": "dc1dae20-6abd-47c2-e425-819d70f080bf"
      },
      "outputs": [
        {
          "output_type": "execute_result",
          "data": {
            "text/plain": [
              "[1, 2, 3, 4, 5, 6, 8, 9, 10, 11, 12, 13, 14, 15]"
            ]
          },
          "metadata": {},
          "execution_count": 24
        }
      ],
      "source": [
        "lista_int.remove(7)\n",
        "\n",
        "lista_int"
      ]
    },
    {
      "cell_type": "code",
      "execution_count": 25,
      "metadata": {
        "colab": {
          "base_uri": "https://localhost:8080/",
          "height": 36
        },
        "id": "Cnc8vMSon1Ij",
        "outputId": "02698863-7bfe-4e23-844a-f69621d53df2"
      },
      "outputs": [
        {
          "output_type": "execute_result",
          "data": {
            "text/plain": [
              "'Ana are mere...'"
            ],
            "application/vnd.google.colaboratory.intrinsic+json": {
              "type": "string"
            }
          },
          "metadata": {},
          "execution_count": 25
        }
      ],
      "source": [
        "exemplu_string += \".\" * 3\n",
        "\n",
        "exemplu_string"
      ]
    },
    {
      "cell_type": "code",
      "execution_count": 26,
      "metadata": {
        "colab": {
          "base_uri": "https://localhost:8080/"
        },
        "id": "FkT33E_boXE6",
        "outputId": "8dbaea98-cc2e-4d7d-d32c-f9e3f28b43fd"
      },
      "outputs": [
        {
          "output_type": "execute_result",
          "data": {
            "text/plain": [
              "14"
            ]
          },
          "metadata": {},
          "execution_count": 26
        }
      ],
      "source": [
        "len(lista_int) # O dată cu schimbările asupra listei s-a modificat și lungimea"
      ]
    },
    {
      "cell_type": "markdown",
      "metadata": {
        "id": "ZO3wRIQMn1Ij"
      },
      "source": [
        "Listele din python suporta si operatii pe care le-ati intalnit la PP, din paradigma functionala, precum `map`, `filter` si `reduce` (echivalentul `fold` din Haskell).\n",
        "\n",
        "Aceste functii, de obicei returneaza iteratori, pentru a economisi memorie, dar putem sa convertim rezultatele înapoi în liste folosind functia `list`:\n"
      ]
    },
    {
      "cell_type": "code",
      "execution_count": 27,
      "metadata": {
        "colab": {
          "base_uri": "https://localhost:8080/"
        },
        "id": "mwtHHSL6n1Ij",
        "outputId": "7970e329-fa9e-428e-c40f-8a9a4d780f21"
      },
      "outputs": [
        {
          "output_type": "execute_result",
          "data": {
            "text/plain": [
              "[1, 4, 9, 16, 25, 36, 64, 81, 100, 121, 144, 169, 196, 225]"
            ]
          },
          "metadata": {},
          "execution_count": 27
        }
      ],
      "source": [
        "lista_int_patrat = list(map(lambda x: x**2, lista_int)) # Observam ca putem folosi functii lambda pentru a defini in-place functii anonime\n",
        "\n",
        "lista_int_patrat"
      ]
    },
    {
      "cell_type": "code",
      "execution_count": 28,
      "metadata": {
        "colab": {
          "base_uri": "https://localhost:8080/"
        },
        "id": "U4edpEZIn1Ik",
        "outputId": "5f8d5b11-2a4d-4d40-e639-2f1823e11c8d"
      },
      "outputs": [
        {
          "output_type": "execute_result",
          "data": {
            "text/plain": [
              "[4, 16, 36, 64, 100, 144, 196]"
            ]
          },
          "metadata": {},
          "execution_count": 28
        }
      ],
      "source": [
        "# Filtram elementele pare din lista\n",
        "lista_int_patrat = list(filter(lambda x: x % 2 == 0, lista_int_patrat))\n",
        "\n",
        "lista_int_patrat"
      ]
    },
    {
      "cell_type": "code",
      "execution_count": 29,
      "metadata": {
        "colab": {
          "base_uri": "https://localhost:8080/"
        },
        "id": "AdmNxhGin1Ik",
        "outputId": "c09bdb6b-8efb-4bb8-bb0c-e896ec8a6f6d"
      },
      "outputs": [
        {
          "output_type": "execute_result",
          "data": {
            "text/plain": [
              "56.0"
            ]
          },
          "metadata": {},
          "execution_count": 29
        }
      ],
      "source": [
        "from functools import reduce # Importam functia reduce din modulul functools\n",
        "\n",
        "suma_radacinilor = reduce(lambda acc, elem: acc + np.sqrt(elem), lista_int_patrat, 0)\n",
        "\n",
        "suma_radacinilor"
      ]
    },
    {
      "cell_type": "markdown",
      "metadata": {
        "id": "6uy99n5do2Tz"
      },
      "source": [
        "De asemenea, există conceptul de list comprehension, întâlnit anterior în Haskell. Acest concept oferă o modalitate concisă și expresivă de a crea liste noi prin aplicarea unei expresii la fiecare element al unei secvențe.\n",
        "\n",
        "Un exemplu simplu ar fi crearea unei liste care conține pătratele primelor zece numere naturale, folosind list comprehension în Python:"
      ]
    },
    {
      "cell_type": "code",
      "execution_count": null,
      "metadata": {
        "colab": {
          "base_uri": "https://localhost:8080/"
        },
        "id": "HV-7A_tZpZpg",
        "outputId": "07b85a37-7d4e-448a-a899-0e3802c4f98d"
      },
      "outputs": [
        {
          "data": {
            "text/plain": [
              "[1, 4, 9, 16, 25, 36, 49, 64, 81, 100]"
            ]
          },
          "execution_count": 30,
          "metadata": {},
          "output_type": "execute_result"
        }
      ],
      "source": [
        "patrate_perfecte = [x**2 for x in range(1, 11)]\n",
        "\n",
        "patrate_perfecte"
      ]
    },
    {
      "cell_type": "markdown",
      "metadata": {
        "id": "CQtS_xPmprho"
      },
      "source": [
        "Iată un exemplu mai complex pentru generarea produsului cartezian al două liste."
      ]
    },
    {
      "cell_type": "code",
      "execution_count": 30,
      "metadata": {
        "colab": {
          "base_uri": "https://localhost:8080/"
        },
        "id": "ZFXqcj__ptxq",
        "outputId": "27b7d147-b2a4-4457-f8ad-69ef02038fb3"
      },
      "outputs": [
        {
          "output_type": "execute_result",
          "data": {
            "text/plain": [
              "[(1, 'a'),\n",
              " (1, 'b'),\n",
              " (1, 'c'),\n",
              " (1, 'd'),\n",
              " (2, 'a'),\n",
              " (2, 'b'),\n",
              " (2, 'c'),\n",
              " (2, 'd'),\n",
              " (3, 'a'),\n",
              " (3, 'b'),\n",
              " (3, 'c'),\n",
              " (3, 'd')]"
            ]
          },
          "metadata": {},
          "execution_count": 30
        }
      ],
      "source": [
        "lista_A = [1, 2, 3]\n",
        "lista_B = ['a', 'b', 'c', 'd']\n",
        "\n",
        "produs_cartezian = [(a, b) for a in lista_A for b in lista_B]\n",
        "produs_cartezian"
      ]
    },
    {
      "cell_type": "markdown",
      "metadata": {
        "id": "uGQgqF0uqGVD"
      },
      "source": [
        "List comprehension în Python poate include și declarații if, permițând filtrarea elementelor în funcție de o anumită condiție. Iată un exemplu simplu în care se creează o listă cu pătratele numerelor pare de la 1 la 10:"
      ]
    },
    {
      "cell_type": "code",
      "execution_count": 31,
      "metadata": {
        "colab": {
          "base_uri": "https://localhost:8080/"
        },
        "id": "5zp94bWsqHm1",
        "outputId": "96b04e36-e3b6-448c-b141-9b3c2816d1e8"
      },
      "outputs": [
        {
          "output_type": "execute_result",
          "data": {
            "text/plain": [
              "[4, 16, 36, 64, 100, 144, 196]"
            ]
          },
          "metadata": {},
          "execution_count": 31
        }
      ],
      "source": [
        "patrate_pare = [x**2 for x in range(1, 15) if x % 2 == 0]\n",
        "\n",
        "patrate_pare"
      ]
    },
    {
      "cell_type": "markdown",
      "metadata": {
        "id": "5iYMXKeWn1Ik"
      },
      "source": [
        "### <u> Iterații prin liste </u>"
      ]
    },
    {
      "cell_type": "markdown",
      "metadata": {
        "id": "8ihgm7uJn1Ik"
      },
      "source": [
        "O altă metodă de a itera prin liste este folosind buclele `for` și `while`.\n",
        "\n",
        "Putem accesa elementele listei folosind indexul acestora, sau putem itera prin toate elementele, folosind instrucțiunea `for`."
      ]
    },
    {
      "cell_type": "code",
      "execution_count": 32,
      "metadata": {
        "colab": {
          "base_uri": "https://localhost:8080/"
        },
        "id": "WPTMn3KGn1Ik",
        "outputId": "d64a5c06-52a7-4da5-ff7d-d39b0b9866bb"
      },
      "outputs": [
        {
          "output_type": "stream",
          "name": "stdout",
          "text": [
            "1\n",
            "2\n",
            "3\n",
            "4\n",
            "5\n",
            "6\n",
            "8\n",
            "9\n",
            "10\n",
            "11\n",
            "12\n",
            "13\n",
            "14\n",
            "15\n"
          ]
        }
      ],
      "source": [
        "# Iteram folosind un index de la 0, pana la lungimea listei\n",
        "for i in range(len(lista_int)):\n",
        "    print(lista_int[i])"
      ]
    },
    {
      "cell_type": "code",
      "execution_count": 33,
      "metadata": {
        "colab": {
          "base_uri": "https://localhost:8080/"
        },
        "id": "JAKK5vGKdOGZ",
        "outputId": "6178dedb-9cc2-42db-a6c9-28ae10667ead"
      },
      "outputs": [
        {
          "output_type": "stream",
          "name": "stdout",
          "text": [
            "1\n",
            "2\n",
            "3\n",
            "4\n",
            "5\n",
            "6\n",
            "8\n",
            "9\n",
            "10\n",
            "11\n",
            "12\n",
            "13\n",
            "14\n",
            "15\n"
          ]
        }
      ],
      "source": [
        "i = 0\n",
        "max_len = len(lista_int)\n",
        "\n",
        "while i < max_len:\n",
        "  print(lista_int[i])\n",
        "\n",
        "  i += 1"
      ]
    },
    {
      "cell_type": "code",
      "execution_count": 34,
      "metadata": {
        "colab": {
          "base_uri": "https://localhost:8080/"
        },
        "id": "ty_GBxkAn1Il",
        "outputId": "3af276b2-fe56-4150-9034-1ef88e996ed5"
      },
      "outputs": [
        {
          "output_type": "stream",
          "name": "stdout",
          "text": [
            "1\n",
            "2\n",
            "3\n",
            "4\n",
            "5\n",
            "6\n",
            "8\n",
            "9\n",
            "10\n",
            "11\n",
            "12\n",
            "13\n",
            "14\n",
            "15\n"
          ]
        }
      ],
      "source": [
        "for elem in lista_int:\n",
        "    print(elem)"
      ]
    },
    {
      "cell_type": "code",
      "execution_count": 35,
      "metadata": {
        "colab": {
          "base_uri": "https://localhost:8080/"
        },
        "id": "hKn-k9-pn1Il",
        "outputId": "a8a0af76-e104-45f7-ac56-dc172cbea9f1"
      },
      "outputs": [
        {
          "output_type": "stream",
          "name": "stdout",
          "text": [
            "Elementul de pe pozitia 0 este 1\n",
            "Elementul de pe pozitia 1 este 2\n",
            "Elementul de pe pozitia 2 este 3\n",
            "Elementul de pe pozitia 3 este 4\n",
            "Elementul de pe pozitia 4 este 5\n",
            "Elementul de pe pozitia 5 este 6\n",
            "Elementul de pe pozitia 6 este 8\n",
            "Elementul de pe pozitia 7 este 9\n",
            "Elementul de pe pozitia 8 este 10\n",
            "Elementul de pe pozitia 9 este 11\n",
            "Elementul de pe pozitia 10 este 12\n",
            "Elementul de pe pozitia 11 este 13\n",
            "Elementul de pe pozitia 12 este 14\n",
            "Elementul de pe pozitia 13 este 15\n"
          ]
        }
      ],
      "source": [
        "for idx, elem in enumerate(lista_int):\n",
        "    print(f\"Elementul de pe pozitia {idx} este {elem}\")"
      ]
    },
    {
      "cell_type": "markdown",
      "metadata": {
        "id": "MAQB9KCaBK7b"
      },
      "source": [
        "În cazul în care vrem să folosim blocuri de instrucțiuni (for, while, if) imbricate, apartenența codului într-un anumit bloc se face prin nivelul indentării:"
      ]
    },
    {
      "cell_type": "code",
      "execution_count": 36,
      "metadata": {
        "colab": {
          "base_uri": "https://localhost:8080/"
        },
        "id": "9_Rv7IijBjOI",
        "outputId": "dbc73b9a-f944-4d49-8e4d-590ff590e599"
      },
      "outputs": [
        {
          "output_type": "stream",
          "name": "stdout",
          "text": [
            "1 1 3 \n",
            "16 2 6 \n",
            "49 4 9 \n",
            "100 5 12 \n"
          ]
        }
      ],
      "source": [
        "# Definim o matrice ca o listă de liste\n",
        "\n",
        "matrice = [[1,2,3], [4,5,6], [7,8,9], [10,11,12]]\n",
        "\n",
        "inaltime = len(matrice)\n",
        "latime = len(matrice[0])\n",
        "\n",
        "# Vrem sa printam multiplii de 3, patratul numerelor de forma 3k+1, si jumătatea întreagă a numerelor de forma 3k+2\n",
        "for i in range(inaltime):\n",
        "  # Se observa ca bucla j este în interiorul buclei for datorită indentării\n",
        "  for j in range(latime):\n",
        "    # Analog observam identarea instructiunilor if-else la acelasi nivel, in interiorul ambelor blocuri for\n",
        "    x = matrice[i][j]\n",
        "    if x % 3 == 0:\n",
        "      print(x, end=\" \")\n",
        "    elif x % 3 == 1: # Exista instructiunea elif\n",
        "      print(x**2, end=\" \")\n",
        "    else:\n",
        "      print(x//2, end=\" \")\n",
        "\n",
        "  # Observăm că acest print face parte doar din blocul exterior for\n",
        "  print()"
      ]
    },
    {
      "cell_type": "markdown",
      "metadata": {
        "id": "SPpdkzKmLZG1"
      },
      "source": [
        "### <u> Operații cu stringuri </u>"
      ]
    },
    {
      "cell_type": "markdown",
      "metadata": {
        "id": "VP3vEyCnMSm0"
      },
      "source": [
        "Operațiile de bază pe care le putem efectua cu stringuri sunt:\n",
        "* conversia în ASCII a literelor - `ord(char)`\n",
        "* tokenizarea sirului pe baza unui caracter separator - `string.split(separator)`\n",
        "* reconstruirea textului pe baza tokenilor - `\"separator\".join(lista_tokeni)`\n",
        "* convertirea case-ului stringului - `string.upper()`, `string.lower()`, `string.capitalize()`\n",
        "* găsirea unui subsir într-un string - `string.find(substring)`\n",
        "* alternativ, verificarea dacă un string conține un anumit subsir - `substring in string`\n",
        "* înlocuirea unui subsir cu altul - `string.replace(substring, new_substring)`\n",
        "* ștergerea spațierii de formatare (en. whitespaces) de la începutul și sfârșitul șirului - `string.strip()`\n",
        "* formatarea unui string - `string.format()` Prezentată anterior la formatarea printării :-)\n",
        "\n",
        "Alte operații mai puțin uzuale, pot fi găsite în [Documentația Python pentru stringuri](https://docs.python.org/3/library/string.html)\n",
        "\n",
        "O bibliotecă importantă în preprocesarea textelor pentru analiza limbajului natural (NLP) este reprezentată de \"re\", funcționalități disponibile prin re, sunt:\n",
        "* căutarea unui pattern într-un string - `re.search(pattern, string)`\n",
        "* găsirea tuturor aparițiilor unui pattern într-un string - `re.findall(pattern, string)`\n",
        "* înlocuirea unui pattern cu altul - `re.sub(pattern, new_pattern, string)`\n",
        "* tokenizarea unui string pe baza unui pattern - `re.split(pattern, string)`\n",
        "\n",
        "Avantajul utilizării bibliotecii \"re\" este reprezentat de posibilitatea identificării unor RegEx-uri, prin `pattern`.\n",
        "\n",
        "Un link foarte util pentru mai buna înțelegere a RegEx-urilor din re se găsește pe [W3schools](https://www.w3schools.com/python/python_regex.asp).\n",
        "\n",
        "O altă bibliotecă utilizată în preprocesare, mai ales pentru taskuri în limba română este reprezentată de `unidecode`, care are rolul de a substitui diacritele cu echivalentul lor din alfabetul latin care încape pe un octet."
      ]
    },
    {
      "cell_type": "markdown",
      "metadata": {
        "id": "0re4BO7n8W80"
      },
      "source": [
        "___\n",
        "**Observație:** Spre deosebire de metodele aplicate asupra listelor, metodele aplicate stringurilor nu execută modificări in-place, ci produc un nou string care are caracteristicile dorite\n",
        "\n",
        "---"
      ]
    },
    {
      "cell_type": "code",
      "execution_count": 37,
      "metadata": {
        "colab": {
          "base_uri": "https://localhost:8080/"
        },
        "id": "l63HkuEM6LHS",
        "outputId": "58faae76-541c-44ea-a05b-555f010e3b92"
      },
      "outputs": [
        {
          "output_type": "execute_result",
          "data": {
            "text/plain": [
              "65"
            ]
          },
          "metadata": {},
          "execution_count": 37
        }
      ],
      "source": [
        "ord('A')"
      ]
    },
    {
      "cell_type": "code",
      "execution_count": 38,
      "metadata": {
        "id": "qeITbdEcqnXL"
      },
      "outputs": [],
      "source": [
        "demo_text = \"Userii @Cata și @Mihai speră să vă bucurați de acest laborator :D\""
      ]
    },
    {
      "cell_type": "code",
      "execution_count": 39,
      "metadata": {
        "colab": {
          "base_uri": "https://localhost:8080/"
        },
        "id": "YGXn86iSrKD7",
        "outputId": "f9b0fcbd-9822-483a-e08c-9142035fe7a6"
      },
      "outputs": [
        {
          "output_type": "execute_result",
          "data": {
            "text/plain": [
              "['Userii',\n",
              " '@Cata',\n",
              " 'și',\n",
              " '@Mihai',\n",
              " 'speră',\n",
              " 'să',\n",
              " 'vă',\n",
              " 'bucurați',\n",
              " 'de',\n",
              " 'acest',\n",
              " 'laborator',\n",
              " ':D']"
            ]
          },
          "metadata": {},
          "execution_count": 39
        }
      ],
      "source": [
        "lista_cuvinte = demo_text.split(\" \")\n",
        "\n",
        "lista_cuvinte"
      ]
    },
    {
      "cell_type": "code",
      "execution_count": 40,
      "metadata": {
        "colab": {
          "base_uri": "https://localhost:8080/",
          "height": 36
        },
        "id": "VYivgUFhsFvt",
        "outputId": "989ad902-7d99-4a94-9b74-70339d274cb1"
      },
      "outputs": [
        {
          "output_type": "execute_result",
          "data": {
            "text/plain": [
              "'Userii @Cata și @Mihai speră să vă bucurați de acest laborator :D'"
            ],
            "application/vnd.google.colaboratory.intrinsic+json": {
              "type": "string"
            }
          },
          "metadata": {},
          "execution_count": 40
        }
      ],
      "source": [
        "textul_reconstruit = \" \".join(lista_cuvinte)\n",
        "\n",
        "textul_reconstruit"
      ]
    },
    {
      "cell_type": "code",
      "execution_count": 41,
      "metadata": {
        "colab": {
          "base_uri": "https://localhost:8080/"
        },
        "id": "ofO1B7Zks6hg",
        "outputId": "4bc8e950-c3e6-4e1a-f04d-3350f83f0a82"
      },
      "outputs": [
        {
          "output_type": "stream",
          "name": "stdout",
          "text": [
            "userii @cata și @mihai speră să vă bucurați de acest laborator :d\n",
            "USERII @CATA ȘI @MIHAI SPERĂ SĂ VĂ BUCURAȚI DE ACEST LABORATOR :D\n",
            "Userii @cata și @mihai speră să vă bucurați de acest laborator :d\n"
          ]
        }
      ],
      "source": [
        "print(demo_text.lower())\n",
        "print(demo_text.upper())\n",
        "print(demo_text.lower().capitalize())"
      ]
    },
    {
      "cell_type": "code",
      "execution_count": 42,
      "metadata": {
        "colab": {
          "base_uri": "https://localhost:8080/"
        },
        "id": "dYOfaZJkt_C9",
        "outputId": "c88453eb-c66f-4352-a23b-49d098e99d9b"
      },
      "outputs": [
        {
          "output_type": "stream",
          "name": "stdout",
          "text": [
            "Rezultatele cautarii unui substring existent in text: True și indexul la care se găsește: 7 (re: <re.Match object; span=(7, 12), match='@Cata'>)\n",
            "Rezultatele cautarii unui substring inexistent in text: False și indexul la care se găsește: -1 (re: None)\n"
          ]
        }
      ],
      "source": [
        "print(f\"Rezultatele cautarii unui substring existent in text:\", \"@Cata\" in demo_text, \"și indexul la care se găsește:\", demo_text.find(\"@Cata\"), \"(re: {})\".format(re.search(\"@Cata\", demo_text)))\n",
        "print(f\"Rezultatele cautarii unui substring inexistent in text:\", \"@Catalin\" in demo_text, \"și indexul la care se găsește:\", demo_text.find(\"@Catalin\"), \"(re: {})\".format(re.search(\"@Catalin\", demo_text)))"
      ]
    },
    {
      "cell_type": "code",
      "execution_count": 43,
      "metadata": {
        "colab": {
          "base_uri": "https://localhost:8080/"
        },
        "id": "xpdAZ_3s751s",
        "outputId": "36a12460-b571-4f41-98db-ae6e85e0c9c3"
      },
      "outputs": [
        {
          "output_type": "stream",
          "name": "stdout",
          "text": [
            "Userii @Cata și @Mihai speră să vă bucurați de acest material :D\n",
            "Userii @Cata și @Mihai speră să vă bucurați de acest laborator :D\n"
          ]
        }
      ],
      "source": [
        "print(demo_text.replace(\"laborator\", \"material\"))\n",
        "\n",
        "print(demo_text) # Deși am făcut replace anterior, demo_text rămâne nemodificat\n",
        "                 # așa cum am precizat și în observația de mai sus"
      ]
    },
    {
      "cell_type": "code",
      "execution_count": 44,
      "metadata": {
        "colab": {
          "base_uri": "https://localhost:8080/"
        },
        "id": "umJ2pFzXuK8E",
        "outputId": "a2c96d48-ef4c-4a8d-a30e-617d2d21f41f"
      },
      "outputs": [
        {
          "output_type": "stream",
          "name": "stdout",
          "text": [
            " Userii @Cata și @Mihai speră să vă bucurați de acest laborator :D \n",
            "Userii @Cata și @Mihai speră să vă bucurați de acest laborator :D\n"
          ]
        }
      ],
      "source": [
        "textul_reconstruit = \" \" + textul_reconstruit + \" \"\n",
        "\n",
        "print(textul_reconstruit)\n",
        "print(textul_reconstruit.strip())"
      ]
    },
    {
      "cell_type": "code",
      "execution_count": 45,
      "metadata": {
        "colab": {
          "base_uri": "https://localhost:8080/",
          "height": 36
        },
        "id": "yC4eMjd49sAE",
        "outputId": "be541a22-c6db-444a-96ec-97b5f778d06f"
      },
      "outputs": [
        {
          "output_type": "execute_result",
          "data": {
            "text/plain": [
              "'Userii Cata și Mihai speră să vă bucurați de acest laborator :D'"
            ],
            "application/vnd.google.colaboratory.intrinsic+json": {
              "type": "string"
            }
          },
          "metadata": {},
          "execution_count": 45
        }
      ],
      "source": [
        "# RegEx care indică eliminarea @ și păstrarea numelor\n",
        "demo_text_fara_useri = re.sub(r'@(\\w+)', r'\\1', demo_text)\n",
        "\n",
        "demo_text_fara_useri"
      ]
    },
    {
      "cell_type": "code",
      "execution_count": 46,
      "metadata": {
        "colab": {
          "base_uri": "https://localhost:8080/",
          "height": 36
        },
        "id": "i7GGr4mw-FSF",
        "outputId": "b7537432-7d7b-404c-f933-a081960aad21"
      },
      "outputs": [
        {
          "output_type": "execute_result",
          "data": {
            "text/plain": [
              "'Userii  și  speră să vă bucurați de acest laborator :D'"
            ],
            "application/vnd.google.colaboratory.intrinsic+json": {
              "type": "string"
            }
          },
          "metadata": {},
          "execution_count": 46
        }
      ],
      "source": [
        "# RegEx care indică eliminarea @user complet\n",
        "demo_text_fara_useri2 = re.sub(r'@(\\w+)', '', demo_text)\n",
        "\n",
        "demo_text_fara_useri2"
      ]
    },
    {
      "cell_type": "markdown",
      "metadata": {
        "id": "sn_dON24-XJW"
      },
      "source": [
        "> Importanța unor astfel de procesări poate consta în anonimizarea persoanelor dintr-un dataset de tweeturi, spre exemplu."
      ]
    },
    {
      "cell_type": "code",
      "execution_count": 47,
      "metadata": {
        "colab": {
          "base_uri": "https://localhost:8080/",
          "height": 36
        },
        "id": "nWpybafG7ToG",
        "outputId": "d269ff63-f28e-4e26-bb8b-e860679b9ca0"
      },
      "outputs": [
        {
          "output_type": "execute_result",
          "data": {
            "text/plain": [
              "'Userii @Cata si @Mihai spera sa va bucurati de acest laborator :D'"
            ],
            "application/vnd.google.colaboratory.intrinsic+json": {
              "type": "string"
            }
          },
          "metadata": {},
          "execution_count": 47
        }
      ],
      "source": [
        "unidecode(demo_text)"
      ]
    },
    {
      "cell_type": "markdown",
      "metadata": {
        "id": "7x9qnSHzyIf-"
      },
      "source": [
        "# <u> Dictionare  </u>"
      ]
    },
    {
      "cell_type": "markdown",
      "metadata": {
        "id": "EUdZEPjhyIf_"
      },
      "source": [
        "Asociază o cheie cu o valoare, valoarea putând fi orice obiect Python. Totuși, cheia trebuie să fie un obiect imutabil (hashable), cum ar fi un string, un număr sau un tuplu."
      ]
    },
    {
      "cell_type": "code",
      "execution_count": 48,
      "metadata": {
        "id": "kn4X5ImoyIf_",
        "outputId": "9524a58e-9c7a-413c-ffaa-011dacebf1c6",
        "colab": {
          "base_uri": "https://localhost:8080/"
        }
      },
      "outputs": [
        {
          "output_type": "execute_result",
          "data": {
            "text/plain": [
              "{'Mihai': 10,\n",
              " 'Andreea': 10,\n",
              " 'Andrei': 8,\n",
              " 'Marcela': 7,\n",
              " 'Rodica': 9,\n",
              " 'Catalin': 8}"
            ]
          },
          "metadata": {},
          "execution_count": 48
        }
      ],
      "source": [
        "note_dict = {\"Mihai\": 10, \"Andreea\": 10, \"Andrei\": 8, \"Marcela\": 7, \"Rodica\": 9, \"Catalin\": 8}\n",
        "\n",
        "note_dict"
      ]
    },
    {
      "cell_type": "code",
      "execution_count": 49,
      "metadata": {
        "id": "xP_RoCAQyIf_"
      },
      "outputs": [],
      "source": [
        "dict_tuples = {(1,2,3): 2, (4,5,6): 5}"
      ]
    },
    {
      "cell_type": "code",
      "execution_count": 50,
      "metadata": {
        "id": "LYlyDT6myIgA",
        "outputId": "82fa2f57-17a6-41b6-e5dd-cb15c3e6d20a",
        "colab": {
          "base_uri": "https://localhost:8080/",
          "height": 146
        }
      },
      "outputs": [
        {
          "output_type": "error",
          "ename": "TypeError",
          "evalue": "unhashable type: 'list'",
          "traceback": [
            "\u001b[0;31m---------------------------------------------------------------------------\u001b[0m",
            "\u001b[0;31mTypeError\u001b[0m                                 Traceback (most recent call last)",
            "\u001b[0;32m<ipython-input-50-e30f4d7fa54b>\u001b[0m in \u001b[0;36m<cell line: 1>\u001b[0;34m()\u001b[0m\n\u001b[0;32m----> 1\u001b[0;31m \u001b[0mdict_lists\u001b[0m \u001b[0;34m=\u001b[0m \u001b[0;34m{\u001b[0m\u001b[0;34m[\u001b[0m\u001b[0;36m1\u001b[0m\u001b[0;34m,\u001b[0m\u001b[0;36m2\u001b[0m\u001b[0;34m,\u001b[0m\u001b[0;36m3\u001b[0m\u001b[0;34m]\u001b[0m\u001b[0;34m:\u001b[0m \u001b[0;36m2\u001b[0m\u001b[0;34m,\u001b[0m \u001b[0;34m[\u001b[0m\u001b[0;36m4\u001b[0m\u001b[0;34m,\u001b[0m\u001b[0;36m5\u001b[0m\u001b[0;34m,\u001b[0m\u001b[0;36m6\u001b[0m\u001b[0;34m]\u001b[0m\u001b[0;34m:\u001b[0m \u001b[0;36m5\u001b[0m\u001b[0;34m}\u001b[0m\u001b[0;34m\u001b[0m\u001b[0;34m\u001b[0m\u001b[0m\n\u001b[0m",
            "\u001b[0;31mTypeError\u001b[0m: unhashable type: 'list'"
          ]
        }
      ],
      "source": [
        "dict_lists = {[1,2,3]: 2, [4,5,6]: 5}"
      ]
    },
    {
      "cell_type": "markdown",
      "metadata": {
        "id": "gNZ2vFIdyIgA"
      },
      "source": [
        "Putem observa că putem construi un dicționar folosind tupluri drept chei, dar nu putem folosi liste, deoarece acestea sunt mutabile."
      ]
    },
    {
      "cell_type": "markdown",
      "metadata": {
        "id": "yEGy0JZayIgA"
      },
      "source": [
        "În ceea ce privește operațiile de bază, dicționarele prezintă următoarele metode:\n",
        "* adăugarea unei perechi cheie-valoare - `dict[key] = value`\n",
        "* obținerea valorii asociate unei chei - `dict[key]`\n",
        "* verificarea existenței unei chei în dicționar - `key in dict`\n",
        "* ștergerea unei perechi cheie-valoare - `del dict[key]`\n",
        "* obținerea unei liste cu toate cheile, valorile sau tuplurile cheie-valoare - `dict.keys()` / `dict.values()` / `dict.items()`\n",
        "\n",
        "\n",
        "Principalul motiv ce favorizează folosirea dicționarelor constă [complexitatea de căutare](https://wiki.python.org/moin/TimeComplexity) O(1) a valorilor pe baza cheilor."
      ]
    },
    {
      "cell_type": "code",
      "execution_count": 51,
      "metadata": {
        "id": "ix6NpmZeyIgB",
        "outputId": "af10209b-94b6-45e2-b514-974693d382a8",
        "colab": {
          "base_uri": "https://localhost:8080/"
        }
      },
      "outputs": [
        {
          "output_type": "execute_result",
          "data": {
            "text/plain": [
              "9"
            ]
          },
          "metadata": {},
          "execution_count": 51
        }
      ],
      "source": [
        "note_dict[\"Rodica\"]"
      ]
    },
    {
      "cell_type": "code",
      "execution_count": 52,
      "metadata": {
        "id": "LAEcTimWyIgC",
        "outputId": "58166b55-eb30-4b5b-eed1-5c6a3fb31756",
        "colab": {
          "base_uri": "https://localhost:8080/"
        }
      },
      "outputs": [
        {
          "output_type": "execute_result",
          "data": {
            "text/plain": [
              "{'Mihai': 10,\n",
              " 'Andreea': 10,\n",
              " 'Andrei': 8,\n",
              " 'Marcela': 7,\n",
              " 'Rodica': 9,\n",
              " 'Catalin': 8,\n",
              " 'Ion': 7}"
            ]
          },
          "metadata": {},
          "execution_count": 52
        }
      ],
      "source": [
        "# Inseram cheia \"Ion\" cu valoarea 3 in dictionar\n",
        "note_dict[\"Ion\"] = 3\n",
        "\n",
        "# Aceeasi operatie poate fi folosita pentru a modifica valoarea unei chei existente\n",
        "note_dict[\"Ion\"] = 7\n",
        "\n",
        "note_dict"
      ]
    },
    {
      "cell_type": "code",
      "execution_count": 53,
      "metadata": {
        "id": "WmfXFLwfyIgC",
        "outputId": "3e64bb9c-11eb-4978-dac8-d8ba2859a250",
        "colab": {
          "base_uri": "https://localhost:8080/"
        }
      },
      "outputs": [
        {
          "output_type": "execute_result",
          "data": {
            "text/plain": [
              "{'Mihai': 10,\n",
              " 'Andreea': 10,\n",
              " 'Andrei': 8,\n",
              " 'Marcela': 7,\n",
              " 'Rodica': 9,\n",
              " 'Catalin': 8}"
            ]
          },
          "metadata": {},
          "execution_count": 53
        }
      ],
      "source": [
        "# Pentru a sterge o intrare din dictionar, întâi verificăm dacă cheia există, pentru a nu genera excepții\n",
        "\n",
        "if \"Ion\" in note_dict:\n",
        "    del note_dict[\"Ion\"]\n",
        "\n",
        "note_dict"
      ]
    },
    {
      "cell_type": "markdown",
      "metadata": {
        "id": "2_COjeHFyIgD"
      },
      "source": [
        "Observăm că, deși noțiunea de hashmap nu este ordonată, dicționarele din Python păstrează ordinea de inserare a elementelor."
      ]
    },
    {
      "cell_type": "code",
      "execution_count": 54,
      "metadata": {
        "id": "IYdOhahyyIgD",
        "outputId": "5b4c528b-d5b7-4e64-efef-9e419c35a94e",
        "colab": {
          "base_uri": "https://localhost:8080/"
        }
      },
      "outputs": [
        {
          "output_type": "execute_result",
          "data": {
            "text/plain": [
              "dict_keys(['Mihai', 'Andreea', 'Andrei', 'Marcela', 'Rodica', 'Catalin'])"
            ]
          },
          "metadata": {},
          "execution_count": 54
        }
      ],
      "source": [
        "note_dict.keys()"
      ]
    },
    {
      "cell_type": "code",
      "execution_count": 55,
      "metadata": {
        "id": "9iz5dHwLyIgD",
        "outputId": "09e2be33-2706-49d7-8de3-ff656cb902fb",
        "colab": {
          "base_uri": "https://localhost:8080/"
        }
      },
      "outputs": [
        {
          "output_type": "execute_result",
          "data": {
            "text/plain": [
              "dict_values([10, 10, 8, 7, 9, 8])"
            ]
          },
          "metadata": {},
          "execution_count": 55
        }
      ],
      "source": [
        "note_dict.values()"
      ]
    },
    {
      "cell_type": "code",
      "execution_count": 56,
      "metadata": {
        "id": "HnO9dz_qyIgD",
        "outputId": "0d41d9dc-574f-4941-ff63-db05a747a4ce",
        "colab": {
          "base_uri": "https://localhost:8080/"
        }
      },
      "outputs": [
        {
          "output_type": "execute_result",
          "data": {
            "text/plain": [
              "dict_items([('Mihai', 10), ('Andreea', 10), ('Andrei', 8), ('Marcela', 7), ('Rodica', 9), ('Catalin', 8)])"
            ]
          },
          "metadata": {},
          "execution_count": 56
        }
      ],
      "source": [
        "note_dict.items()"
      ]
    },
    {
      "cell_type": "markdown",
      "metadata": {
        "id": "5c71gRN4yIgE"
      },
      "source": [
        "Vom normaliza notele studenților de la scala 1-10 la scala 1-5:\n",
        "\n",
        "f(x) = ax + b\n",
        "\n",
        "\n",
        "f(1) = a + b = 1 &emsp;&emsp; => a = $\\frac{4}{9}$, b = $\\frac{5}{9}$\n",
        "\n",
        "f(10) = 10a + b = 5\n",
        "\n"
      ]
    },
    {
      "cell_type": "code",
      "execution_count": 57,
      "metadata": {
        "id": "9JJj_gYoyIgE",
        "outputId": "adbc1d75-20be-4eb1-9512-c3dfb97798fb",
        "colab": {
          "base_uri": "https://localhost:8080/"
        }
      },
      "outputs": [
        {
          "output_type": "execute_result",
          "data": {
            "text/plain": [
              "{'Mihai': 5.0,\n",
              " 'Andreea': 5.0,\n",
              " 'Andrei': 4.11,\n",
              " 'Marcela': 3.67,\n",
              " 'Rodica': 4.56,\n",
              " 'Catalin': 4.11}"
            ]
          },
          "metadata": {},
          "execution_count": 57
        }
      ],
      "source": [
        "# Obținem valoarea maximă din dicționar\n",
        "a = 4 / 9\n",
        "b = 5 / 9\n",
        "\n",
        "scala_noua1 = {}\n",
        "\n",
        "\n",
        "# Iterăm peste toate cheile și actualizăm valorile:\n",
        "for key in note_dict:\n",
        "    scala_noua1[key] = round(a * note_dict[key]  + b, 2)\n",
        "\n",
        "scala_noua1"
      ]
    },
    {
      "cell_type": "markdown",
      "metadata": {
        "id": "scWWVqLGyIgE"
      },
      "source": [
        "Există posibilitatea de list comprehension și pentru dicționare:"
      ]
    },
    {
      "cell_type": "code",
      "execution_count": 58,
      "metadata": {
        "id": "nlZMv6asyIgE",
        "outputId": "7b59f729-9cb3-42ad-fbe6-cb00c5a812d0",
        "colab": {
          "base_uri": "https://localhost:8080/"
        }
      },
      "outputs": [
        {
          "output_type": "execute_result",
          "data": {
            "text/plain": [
              "{'Mihai': 5.0,\n",
              " 'Andreea': 5.0,\n",
              " 'Andrei': 4.11,\n",
              " 'Marcela': 3.67,\n",
              " 'Rodica': 4.56,\n",
              " 'Catalin': 4.11}"
            ]
          },
          "metadata": {},
          "execution_count": 58
        }
      ],
      "source": [
        "scala_noua2 = {key: round(a * note_dict[key]  + b, 2) for key in note_dict}\n",
        "\n",
        "scala_noua2"
      ]
    },
    {
      "cell_type": "markdown",
      "metadata": {
        "id": "0mqpB1jLyIgF"
      },
      "source": [
        "**[AVANSAT]** Așa cum putem defini o matrice ca o listă de liste și o putem parsa folosind alte module de algebră liniară `(numpy, pytorch)`, putem defini și dicționare de dicționare, care sa fie convertite în DataFrame-uri multi-index folosind `pandas`.\n",
        "\n",
        "Totuși cu biblioteca `pandas` și multi-indexing vom lucra mai târziu. :-)"
      ]
    },
    {
      "cell_type": "code",
      "execution_count": 59,
      "metadata": {
        "id": "u2KNZMiAyIgF",
        "outputId": "21cfc485-5d79-4645-af30-ed3dbb383ab3",
        "colab": {
          "base_uri": "https://localhost:8080/",
          "height": 175
        }
      },
      "outputs": [
        {
          "output_type": "execute_result",
          "data": {
            "text/plain": [
              "                                     Informatica  Matematica  Istorie\n",
              "Colegiul National Iași      Mihai             10          10       10\n",
              "                            Elena              7          10        9\n",
              "Colegiul National Bucuresti Andreea           10          10       10\n",
              "                            Flavius            6           8       10"
            ],
            "text/html": [
              "\n",
              "  <div id=\"df-6f99e80a-1ac5-4629-930c-c8fb2a99c398\" class=\"colab-df-container\">\n",
              "    <div>\n",
              "<style scoped>\n",
              "    .dataframe tbody tr th:only-of-type {\n",
              "        vertical-align: middle;\n",
              "    }\n",
              "\n",
              "    .dataframe tbody tr th {\n",
              "        vertical-align: top;\n",
              "    }\n",
              "\n",
              "    .dataframe thead th {\n",
              "        text-align: right;\n",
              "    }\n",
              "</style>\n",
              "<table border=\"1\" class=\"dataframe\">\n",
              "  <thead>\n",
              "    <tr style=\"text-align: right;\">\n",
              "      <th></th>\n",
              "      <th></th>\n",
              "      <th>Informatica</th>\n",
              "      <th>Matematica</th>\n",
              "      <th>Istorie</th>\n",
              "    </tr>\n",
              "  </thead>\n",
              "  <tbody>\n",
              "    <tr>\n",
              "      <th rowspan=\"2\" valign=\"top\">Colegiul National Iași</th>\n",
              "      <th>Mihai</th>\n",
              "      <td>10</td>\n",
              "      <td>10</td>\n",
              "      <td>10</td>\n",
              "    </tr>\n",
              "    <tr>\n",
              "      <th>Elena</th>\n",
              "      <td>7</td>\n",
              "      <td>10</td>\n",
              "      <td>9</td>\n",
              "    </tr>\n",
              "    <tr>\n",
              "      <th rowspan=\"2\" valign=\"top\">Colegiul National Bucuresti</th>\n",
              "      <th>Andreea</th>\n",
              "      <td>10</td>\n",
              "      <td>10</td>\n",
              "      <td>10</td>\n",
              "    </tr>\n",
              "    <tr>\n",
              "      <th>Flavius</th>\n",
              "      <td>6</td>\n",
              "      <td>8</td>\n",
              "      <td>10</td>\n",
              "    </tr>\n",
              "  </tbody>\n",
              "</table>\n",
              "</div>\n",
              "    <div class=\"colab-df-buttons\">\n",
              "\n",
              "  <div class=\"colab-df-container\">\n",
              "    <button class=\"colab-df-convert\" onclick=\"convertToInteractive('df-6f99e80a-1ac5-4629-930c-c8fb2a99c398')\"\n",
              "            title=\"Convert this dataframe to an interactive table.\"\n",
              "            style=\"display:none;\">\n",
              "\n",
              "  <svg xmlns=\"http://www.w3.org/2000/svg\" height=\"24px\" viewBox=\"0 -960 960 960\">\n",
              "    <path d=\"M120-120v-720h720v720H120Zm60-500h600v-160H180v160Zm220 220h160v-160H400v160Zm0 220h160v-160H400v160ZM180-400h160v-160H180v160Zm440 0h160v-160H620v160ZM180-180h160v-160H180v160Zm440 0h160v-160H620v160Z\"/>\n",
              "  </svg>\n",
              "    </button>\n",
              "\n",
              "  <style>\n",
              "    .colab-df-container {\n",
              "      display:flex;\n",
              "      gap: 12px;\n",
              "    }\n",
              "\n",
              "    .colab-df-convert {\n",
              "      background-color: #E8F0FE;\n",
              "      border: none;\n",
              "      border-radius: 50%;\n",
              "      cursor: pointer;\n",
              "      display: none;\n",
              "      fill: #1967D2;\n",
              "      height: 32px;\n",
              "      padding: 0 0 0 0;\n",
              "      width: 32px;\n",
              "    }\n",
              "\n",
              "    .colab-df-convert:hover {\n",
              "      background-color: #E2EBFA;\n",
              "      box-shadow: 0px 1px 2px rgba(60, 64, 67, 0.3), 0px 1px 3px 1px rgba(60, 64, 67, 0.15);\n",
              "      fill: #174EA6;\n",
              "    }\n",
              "\n",
              "    .colab-df-buttons div {\n",
              "      margin-bottom: 4px;\n",
              "    }\n",
              "\n",
              "    [theme=dark] .colab-df-convert {\n",
              "      background-color: #3B4455;\n",
              "      fill: #D2E3FC;\n",
              "    }\n",
              "\n",
              "    [theme=dark] .colab-df-convert:hover {\n",
              "      background-color: #434B5C;\n",
              "      box-shadow: 0px 1px 3px 1px rgba(0, 0, 0, 0.15);\n",
              "      filter: drop-shadow(0px 1px 2px rgba(0, 0, 0, 0.3));\n",
              "      fill: #FFFFFF;\n",
              "    }\n",
              "  </style>\n",
              "\n",
              "    <script>\n",
              "      const buttonEl =\n",
              "        document.querySelector('#df-6f99e80a-1ac5-4629-930c-c8fb2a99c398 button.colab-df-convert');\n",
              "      buttonEl.style.display =\n",
              "        google.colab.kernel.accessAllowed ? 'block' : 'none';\n",
              "\n",
              "      async function convertToInteractive(key) {\n",
              "        const element = document.querySelector('#df-6f99e80a-1ac5-4629-930c-c8fb2a99c398');\n",
              "        const dataTable =\n",
              "          await google.colab.kernel.invokeFunction('convertToInteractive',\n",
              "                                                    [key], {});\n",
              "        if (!dataTable) return;\n",
              "\n",
              "        const docLinkHtml = 'Like what you see? Visit the ' +\n",
              "          '<a target=\"_blank\" href=https://colab.research.google.com/notebooks/data_table.ipynb>data table notebook</a>'\n",
              "          + ' to learn more about interactive tables.';\n",
              "        element.innerHTML = '';\n",
              "        dataTable['output_type'] = 'display_data';\n",
              "        await google.colab.output.renderOutput(dataTable, element);\n",
              "        const docLink = document.createElement('div');\n",
              "        docLink.innerHTML = docLinkHtml;\n",
              "        element.appendChild(docLink);\n",
              "      }\n",
              "    </script>\n",
              "  </div>\n",
              "\n",
              "\n",
              "<div id=\"df-b279f0c3-6f6b-4723-a974-271d247393fa\">\n",
              "  <button class=\"colab-df-quickchart\" onclick=\"quickchart('df-b279f0c3-6f6b-4723-a974-271d247393fa')\"\n",
              "            title=\"Suggest charts\"\n",
              "            style=\"display:none;\">\n",
              "\n",
              "<svg xmlns=\"http://www.w3.org/2000/svg\" height=\"24px\"viewBox=\"0 0 24 24\"\n",
              "     width=\"24px\">\n",
              "    <g>\n",
              "        <path d=\"M19 3H5c-1.1 0-2 .9-2 2v14c0 1.1.9 2 2 2h14c1.1 0 2-.9 2-2V5c0-1.1-.9-2-2-2zM9 17H7v-7h2v7zm4 0h-2V7h2v10zm4 0h-2v-4h2v4z\"/>\n",
              "    </g>\n",
              "</svg>\n",
              "  </button>\n",
              "\n",
              "<style>\n",
              "  .colab-df-quickchart {\n",
              "      --bg-color: #E8F0FE;\n",
              "      --fill-color: #1967D2;\n",
              "      --hover-bg-color: #E2EBFA;\n",
              "      --hover-fill-color: #174EA6;\n",
              "      --disabled-fill-color: #AAA;\n",
              "      --disabled-bg-color: #DDD;\n",
              "  }\n",
              "\n",
              "  [theme=dark] .colab-df-quickchart {\n",
              "      --bg-color: #3B4455;\n",
              "      --fill-color: #D2E3FC;\n",
              "      --hover-bg-color: #434B5C;\n",
              "      --hover-fill-color: #FFFFFF;\n",
              "      --disabled-bg-color: #3B4455;\n",
              "      --disabled-fill-color: #666;\n",
              "  }\n",
              "\n",
              "  .colab-df-quickchart {\n",
              "    background-color: var(--bg-color);\n",
              "    border: none;\n",
              "    border-radius: 50%;\n",
              "    cursor: pointer;\n",
              "    display: none;\n",
              "    fill: var(--fill-color);\n",
              "    height: 32px;\n",
              "    padding: 0;\n",
              "    width: 32px;\n",
              "  }\n",
              "\n",
              "  .colab-df-quickchart:hover {\n",
              "    background-color: var(--hover-bg-color);\n",
              "    box-shadow: 0 1px 2px rgba(60, 64, 67, 0.3), 0 1px 3px 1px rgba(60, 64, 67, 0.15);\n",
              "    fill: var(--button-hover-fill-color);\n",
              "  }\n",
              "\n",
              "  .colab-df-quickchart-complete:disabled,\n",
              "  .colab-df-quickchart-complete:disabled:hover {\n",
              "    background-color: var(--disabled-bg-color);\n",
              "    fill: var(--disabled-fill-color);\n",
              "    box-shadow: none;\n",
              "  }\n",
              "\n",
              "  .colab-df-spinner {\n",
              "    border: 2px solid var(--fill-color);\n",
              "    border-color: transparent;\n",
              "    border-bottom-color: var(--fill-color);\n",
              "    animation:\n",
              "      spin 1s steps(1) infinite;\n",
              "  }\n",
              "\n",
              "  @keyframes spin {\n",
              "    0% {\n",
              "      border-color: transparent;\n",
              "      border-bottom-color: var(--fill-color);\n",
              "      border-left-color: var(--fill-color);\n",
              "    }\n",
              "    20% {\n",
              "      border-color: transparent;\n",
              "      border-left-color: var(--fill-color);\n",
              "      border-top-color: var(--fill-color);\n",
              "    }\n",
              "    30% {\n",
              "      border-color: transparent;\n",
              "      border-left-color: var(--fill-color);\n",
              "      border-top-color: var(--fill-color);\n",
              "      border-right-color: var(--fill-color);\n",
              "    }\n",
              "    40% {\n",
              "      border-color: transparent;\n",
              "      border-right-color: var(--fill-color);\n",
              "      border-top-color: var(--fill-color);\n",
              "    }\n",
              "    60% {\n",
              "      border-color: transparent;\n",
              "      border-right-color: var(--fill-color);\n",
              "    }\n",
              "    80% {\n",
              "      border-color: transparent;\n",
              "      border-right-color: var(--fill-color);\n",
              "      border-bottom-color: var(--fill-color);\n",
              "    }\n",
              "    90% {\n",
              "      border-color: transparent;\n",
              "      border-bottom-color: var(--fill-color);\n",
              "    }\n",
              "  }\n",
              "</style>\n",
              "\n",
              "  <script>\n",
              "    async function quickchart(key) {\n",
              "      const quickchartButtonEl =\n",
              "        document.querySelector('#' + key + ' button');\n",
              "      quickchartButtonEl.disabled = true;  // To prevent multiple clicks.\n",
              "      quickchartButtonEl.classList.add('colab-df-spinner');\n",
              "      try {\n",
              "        const charts = await google.colab.kernel.invokeFunction(\n",
              "            'suggestCharts', [key], {});\n",
              "      } catch (error) {\n",
              "        console.error('Error during call to suggestCharts:', error);\n",
              "      }\n",
              "      quickchartButtonEl.classList.remove('colab-df-spinner');\n",
              "      quickchartButtonEl.classList.add('colab-df-quickchart-complete');\n",
              "    }\n",
              "    (() => {\n",
              "      let quickchartButtonEl =\n",
              "        document.querySelector('#df-b279f0c3-6f6b-4723-a974-271d247393fa button');\n",
              "      quickchartButtonEl.style.display =\n",
              "        google.colab.kernel.accessAllowed ? 'block' : 'none';\n",
              "    })();\n",
              "  </script>\n",
              "</div>\n",
              "    </div>\n",
              "  </div>\n"
            ],
            "application/vnd.google.colaboratory.intrinsic+json": {
              "type": "dataframe",
              "variable_name": "scoli_df",
              "summary": "{\n  \"name\": \"scoli_df\",\n  \"rows\": 4,\n  \"fields\": [\n    {\n      \"column\": \"Informatica\",\n      \"properties\": {\n        \"dtype\": \"number\",\n        \"std\": 2,\n        \"min\": 6,\n        \"max\": 10,\n        \"num_unique_values\": 3,\n        \"samples\": [\n          10,\n          7,\n          6\n        ],\n        \"semantic_type\": \"\",\n        \"description\": \"\"\n      }\n    },\n    {\n      \"column\": \"Matematica\",\n      \"properties\": {\n        \"dtype\": \"number\",\n        \"std\": 1,\n        \"min\": 8,\n        \"max\": 10,\n        \"num_unique_values\": 2,\n        \"samples\": [\n          8,\n          10\n        ],\n        \"semantic_type\": \"\",\n        \"description\": \"\"\n      }\n    },\n    {\n      \"column\": \"Istorie\",\n      \"properties\": {\n        \"dtype\": \"number\",\n        \"std\": 0,\n        \"min\": 9,\n        \"max\": 10,\n        \"num_unique_values\": 2,\n        \"samples\": [\n          9,\n          10\n        ],\n        \"semantic_type\": \"\",\n        \"description\": \"\"\n      }\n    }\n  ]\n}"
            }
          },
          "metadata": {},
          "execution_count": 59
        }
      ],
      "source": [
        "scoli_dict = {\"Colegiul National Iași\": {\"Mihai\": {\"Informatica\":10, \"Matematica\":10, \"Istorie\":10}, \"Elena\":{\"Informatica\":7, \"Matematica\":10, \"Istorie\":9}}, \"Colegiul National Bucuresti\": {\"Andreea\": {\"Informatica\":10, \"Matematica\":10, \"Istorie\":10}, \"Flavius\":{\"Informatica\":6, \"Matematica\":8, \"Istorie\":10}}}\n",
        "\n",
        "\n",
        "# Create a multi-index DataFrame from the dictionary\n",
        "scoli_df = pd.DataFrame.from_dict({(i,j): scoli_dict[i][j]\n",
        "                           for i in scoli_dict.keys()\n",
        "                           for j in scoli_dict[i].keys()},\n",
        "                       orient='index')\n",
        "\n",
        "scoli_df"
      ]
    },
    {
      "cell_type": "markdown",
      "metadata": {
        "id": "oEWJcvV576Ej"
      },
      "source": [
        "# <u> Numpy  </u>"
      ]
    },
    {
      "cell_type": "markdown",
      "metadata": {
        "id": "nNRMEdZq8Lvm"
      },
      "source": [
        "Numpy este o bibliotecă de bază pentru calculul științific în Python. Ea oferă suport pentru vectori și matrice, împreună cu funcții matematice pentru a opera asupra acestora, precum și funcții de algebra liniară și rezolvare de ecuații."
      ]
    },
    {
      "cell_type": "markdown",
      "metadata": {
        "id": "K-G69A998laP"
      },
      "source": [
        "Există foarte multe funcționalități oferite de numpy, și vă îndrumăm să le explorați pe toate în [Documentația Numpy](https://numpy.org/doc/stable/user/basics.html)."
      ]
    },
    {
      "cell_type": "markdown",
      "metadata": {
        "id": "ZRz-i2FE-suH"
      },
      "source": [
        "Dintre funcționalitățile utilizate frecvent, putem enumera:\n",
        "* crearea de vectori și matrice - `np.array()`, `np.zeros()`, `np.ones()`, `np.tril()`, `np.triu()`, `np.arange()`, `np.linspace()`\n",
        "* operații matematice - `np.add()`, `np.subtract()`, `np.multiply()`, `np.divide()`, `np.dot()`, `np.matmul()` (sau in-line `@`), `np.transpose()` (sau `vector.T`)\n",
        "* funcții matematice - `np.exp()`, `np.log()`, `np.sin()`, `np.cos()`, `np.tan()`, `np.sqrt()`\n",
        "* funcții de agregare - `np.sum()`, `np.mean()`, `np.std()`, `np.var()`, `np.max()`, `np.min()`\n",
        "* funcții de manipulare a formei - `np.reshape()`, `np.concatenate()`, `np.split()`, `np.vstack()`, `np.hstack()`\n",
        "* funcții de manipulare a dimensiunilor - `np.squeeze()`, `np.unsqueeze()`\n",
        "* funcții de comparare - `np.equal()`, `np.not_equal()`, `np.greater()`, `np.greater_equal()`, `np.less()`, `np.less_equal()`, `np.all()`, `np.any()`\n",
        "* funcții de filtrare - `np.where()`, `np.argmax()`, `np.argmin()`\n",
        "* funcții de randomizare - `np.random.rand()`, `np.random.randn()`, `np.random.randint()`, `np.random.choice()`, `np.random.shuffle()`\n",
        "* funcții de algebra liniară - `np.linalg.inv()`, `np.linalg.det()`, `np.linalg.eig()`, `np.linalg.svd()`, `np.linalg.solve()`\n",
        "* funcții de statistici - `np.percentile()`, `np.histogram()`, `np.cov()`, `np.corrcoef()`\n",
        "* funcții de serializare - `np.save()`, `np.load()`, `np.savez()`, `np.loadz()`\n",
        "* funcții de manipulare a tipurilor de date - `np.astype()`, `np.asarray()`, `np.copy()`, `np.view()`"
      ]
    },
    {
      "cell_type": "markdown",
      "metadata": {
        "id": "-_I9-PoH_TPd"
      },
      "source": [
        "Să revenim la exercițiul anterior în care doream să rescalăm notele din intervalul [1, 10] în [1, 5].\n",
        "\n",
        "Putem rezolva problema matriceal, automat, în locul substituției analitice:\n",
        "\n",
        "a + b = 1\n",
        "10a + b = 5\n",
        "\n",
        "Se poate scrie:\n",
        "\n",
        "$$\n",
        "\\left(\\begin{array}{cc}\n",
        "1 & 1\\\\\n",
        "10 & 1\n",
        "\\end{array}\\right)\n",
        "\\left(\\begin{array}{cc}\n",
        "a \\\\\n",
        "b\n",
        "\\end{array}\\right)\n",
        "=\n",
        "\\left(\\begin{array}{cc}\n",
        "1 \\\\\n",
        "5\n",
        "\\end{array}\\right)\n",
        "$$\n",
        "\n",
        "În formă matriceală compactă, notăm:\n",
        "\n",
        "$$Ax = y \\implies x = A^{-1}y$$"
      ]
    },
    {
      "cell_type": "code",
      "execution_count": 60,
      "metadata": {
        "colab": {
          "base_uri": "https://localhost:8080/"
        },
        "id": "QUj3rcUv_Ss1",
        "outputId": "ba77ce2f-8937-41bc-ff51-15eaba8e5fd1"
      },
      "outputs": [
        {
          "output_type": "execute_result",
          "data": {
            "text/plain": [
              "(0.4444444444444445, 0.5555555555555556)"
            ]
          },
          "metadata": {},
          "execution_count": 60
        }
      ],
      "source": [
        "A = [[1, 1], [10, 1]]\n",
        "y = [1,5]\n",
        "\n",
        "# Convertim matricea și vectorul în obiecte din numpy\n",
        "A = np.array(A)\n",
        "y = np.array(y)\n",
        "\n",
        "x = np.linalg.inv(A) @ y.T # L-am facut pe y vector coloana prin transpunere\n",
        "\n",
        "a, b = x[0], x[1]\n",
        "\n",
        "a, b"
      ]
    },
    {
      "cell_type": "code",
      "execution_count": 61,
      "metadata": {
        "colab": {
          "base_uri": "https://localhost:8080/"
        },
        "id": "nnfkBOQhCpGd",
        "outputId": "93588c6c-bea0-4fec-8da0-3767bec1683c"
      },
      "outputs": [
        {
          "output_type": "execute_result",
          "data": {
            "text/plain": [
              "(2, 2)"
            ]
          },
          "metadata": {},
          "execution_count": 61
        }
      ],
      "source": [
        "# Pentru a obține dimensiunile unui vector în numpy:\n",
        "inaltime, latime = A.shape\n",
        "\n",
        "inaltime, latime"
      ]
    },
    {
      "cell_type": "code",
      "execution_count": 62,
      "metadata": {
        "colab": {
          "base_uri": "https://localhost:8080/"
        },
        "id": "G6IsACwkC8OO",
        "outputId": "09136294-0326-40e7-eaeb-5b18f68f52c6"
      },
      "outputs": [
        {
          "output_type": "execute_result",
          "data": {
            "text/plain": [
              "((2,), (2,))"
            ]
          },
          "metadata": {},
          "execution_count": 62
        }
      ],
      "source": [
        "# Daca vectorul este unidimensional, el va avea o dimensiune goală\n",
        "# Iar atribuirea inaltime, latime = y.shape va produce o eroare referitoare la numărul de valori pe care vrem să le extragem\n",
        "y.shape, y.T.shape"
      ]
    },
    {
      "cell_type": "code",
      "execution_count": 63,
      "metadata": {
        "colab": {
          "base_uri": "https://localhost:8080/"
        },
        "id": "3E97E6vvDRsn",
        "outputId": "9f6ff001-7944-4504-fc34-27ce71a91670"
      },
      "outputs": [
        {
          "output_type": "execute_result",
          "data": {
            "text/plain": [
              "(2, 1)"
            ]
          },
          "metadata": {},
          "execution_count": 63
        }
      ],
      "source": [
        "# Pentru a obține y de 2 dimensiuni, folosim comanda np.nexaxis, care mai adaugă un rând de parantezări în interiorul vectorului\n",
        "y = y[:, np.newaxis]\n",
        "y.shape"
      ]
    },
    {
      "cell_type": "markdown",
      "metadata": {
        "id": "8sr_6UTQEZ3w"
      },
      "source": [
        "În exemplul următor vom explora capacitatea de slicing oferită de numpy:"
      ]
    },
    {
      "cell_type": "code",
      "execution_count": 64,
      "metadata": {
        "colab": {
          "base_uri": "https://localhost:8080/"
        },
        "id": "9IvkIBFxEwBN",
        "outputId": "863a57a6-36e7-4283-c277-15188d65934d"
      },
      "outputs": [
        {
          "output_type": "execute_result",
          "data": {
            "text/plain": [
              "array([[ 1,  2,  3,  4],\n",
              "       [ 5,  6,  7,  8],\n",
              "       [ 9, 10, 11, 12],\n",
              "       [13, 14, 15, 16]])"
            ]
          },
          "metadata": {},
          "execution_count": 64
        }
      ],
      "source": [
        "# Creăm o matrice 4x4 cu valori de la 1 la 16\n",
        "X = np.arange(1, 17).reshape(4, 4)\n",
        "\n",
        "X"
      ]
    },
    {
      "cell_type": "code",
      "execution_count": 65,
      "metadata": {
        "colab": {
          "base_uri": "https://localhost:8080/"
        },
        "id": "YN-PJ2UVE51t",
        "outputId": "d6d8550a-fcd0-4d15-c30c-bcb2e76cf2f7"
      },
      "outputs": [
        {
          "output_type": "execute_result",
          "data": {
            "text/plain": [
              "array([[ 6,  7,  8],\n",
              "       [10, 11, 12]])"
            ]
          },
          "metadata": {},
          "execution_count": 65
        }
      ],
      "source": [
        "# Putem extrage din această matrice cele 2 rânduri de la mijloc și ultimele 3 coloane\n",
        "X_mic = X[1:3, 1:]\n",
        "\n",
        "X_mic"
      ]
    },
    {
      "cell_type": "markdown",
      "metadata": {
        "id": "_ZU_MRGKFQHt"
      },
      "source": [
        "În numpy, indexarea se face tot de la 0.\n",
        "\n",
        "Slicing-ul start:stop semnifică colectarea tuturor indecșilor cu proprietatea:\n",
        "$$start \\leq i < stop$$\n",
        "\n",
        "și poate fi folosit și de la sfârșit spre început folosind indecși negativi și aceeași convenție cu startul inclus și sfârșitul exclus.\n",
        "\n",
        "În momentul când unul dintre cele două capete lipsește, slicingul va merge până ajunge la capătul dimensiunii `1:` semnifică `start = 1, stop = max_width`"
      ]
    },
    {
      "cell_type": "markdown",
      "metadata": {
        "id": "TV1WcvIRGfJ0"
      },
      "source": [
        "Totodată, aveți mare atenție asupra felului cum folosiți sliceurile, ele sunt transmise prin referință și vor afecta structura din care au fost decupate:"
      ]
    },
    {
      "cell_type": "code",
      "execution_count": 66,
      "metadata": {
        "colab": {
          "base_uri": "https://localhost:8080/"
        },
        "id": "gwzm877DGypc",
        "outputId": "1b8b6b40-886c-421e-9e0f-147621095f8b"
      },
      "outputs": [
        {
          "output_type": "execute_result",
          "data": {
            "text/plain": [
              "array([[ 1,  2,  3,  4],\n",
              "       [ 5,  6,  7,  8],\n",
              "       [ 9, 10, 11, 12],\n",
              "       [13, 14, 15, 16]])"
            ]
          },
          "metadata": {},
          "execution_count": 66
        }
      ],
      "source": [
        "X"
      ]
    },
    {
      "cell_type": "code",
      "execution_count": 67,
      "metadata": {
        "colab": {
          "base_uri": "https://localhost:8080/"
        },
        "id": "kyIxHi1mG0Qc",
        "outputId": "e4a32b1e-a700-4a81-bdc1-0610fb4f79bf"
      },
      "outputs": [
        {
          "output_type": "execute_result",
          "data": {
            "text/plain": [
              "array([[0, 0, 0],\n",
              "       [0, 0, 0]])"
            ]
          },
          "metadata": {},
          "execution_count": 67
        }
      ],
      "source": [
        "# Peste toată dimensiunea X_mic punem 0-uri:\n",
        "X_mic[:] = 0\n",
        "\n",
        "X_mic"
      ]
    },
    {
      "cell_type": "code",
      "execution_count": 68,
      "metadata": {
        "colab": {
          "base_uri": "https://localhost:8080/"
        },
        "id": "ZZk2ZbJaG81H",
        "outputId": "5785ed8e-8c64-462a-f0d3-8d46b9404adc"
      },
      "outputs": [
        {
          "output_type": "execute_result",
          "data": {
            "text/plain": [
              "array([[ 1,  2,  3,  4],\n",
              "       [ 5,  0,  0,  0],\n",
              "       [ 9,  0,  0,  0],\n",
              "       [13, 14, 15, 16]])"
            ]
          },
          "metadata": {},
          "execution_count": 68
        }
      ],
      "source": [
        "X"
      ]
    },
    {
      "cell_type": "markdown",
      "metadata": {
        "id": "JqL_gXPcHV6A"
      },
      "source": [
        "Pentru a nu afecta structura lui X, ar trebui să facem o copie persistentă a regiunii decupate:"
      ]
    },
    {
      "cell_type": "code",
      "execution_count": 69,
      "metadata": {
        "colab": {
          "base_uri": "https://localhost:8080/"
        },
        "id": "X6OXOGk4HhhD",
        "outputId": "d0661d94-f1ea-4d8e-a0bc-b8447e1942ae"
      },
      "outputs": [
        {
          "output_type": "execute_result",
          "data": {
            "text/plain": [
              "(array([[ 1,  2,  3,  4],\n",
              "        [ 5,  6,  7,  8],\n",
              "        [ 9, 10, 11, 12],\n",
              "        [13, 14, 15, 16]]),\n",
              " array([[ 6,  7,  8],\n",
              "        [10, 11, 12]]))"
            ]
          },
          "metadata": {},
          "execution_count": 69
        }
      ],
      "source": [
        "# Resetăm experimentul\n",
        "X = np.arange(1, 17).reshape(4, 4)\n",
        "\n",
        "# realizăm o copie persistentă a lui X pe zona din slicing, folosind metoda deepcopy din librăria copy\n",
        "X_mic = deepcopy(X[1:3, 1:])\n",
        "\n",
        "X, X_mic"
      ]
    },
    {
      "cell_type": "code",
      "execution_count": 70,
      "metadata": {
        "colab": {
          "base_uri": "https://localhost:8080/"
        },
        "id": "DTrEsFCaH9MT",
        "outputId": "16e848d4-2203-4524-8e55-742cbdb3b15e"
      },
      "outputs": [
        {
          "output_type": "execute_result",
          "data": {
            "text/plain": [
              "(array([[ 1,  2,  3,  4],\n",
              "        [ 5,  6,  7,  8],\n",
              "        [ 9, 10, 11, 12],\n",
              "        [13, 14, 15, 16]]),\n",
              " array([[0, 0, 0],\n",
              "        [0, 0, 0]]))"
            ]
          },
          "metadata": {},
          "execution_count": 70
        }
      ],
      "source": [
        "X_mic[:] = 0\n",
        "\n",
        "X, X_mic"
      ]
    },
    {
      "cell_type": "markdown",
      "metadata": {
        "id": "8LJ-DT_QyIgG"
      },
      "source": [
        "# <u> Funcții  </u>"
      ]
    },
    {
      "cell_type": "markdown",
      "metadata": {
        "id": "L0qLO6pCzBf-"
      },
      "source": [
        "În Python, în afara variabilelor de bază care sunt transmise prin valoare, toate celelalte sunt transmise prin referință.\n",
        "\n",
        "Așadar, modificările aduse obiectelor din funcții se propagă ca efecte laterale în afara funcției."
      ]
    },
    {
      "cell_type": "code",
      "execution_count": null,
      "metadata": {
        "id": "v1R8luWYzEiU"
      },
      "outputs": [],
      "source": [
        "lista_int = list(range(1, 16))"
      ]
    },
    {
      "cell_type": "code",
      "execution_count": 71,
      "metadata": {
        "colab": {
          "base_uri": "https://localhost:8080/"
        },
        "id": "FfkzaLeZzChL",
        "outputId": "2f63217b-2a64-4e74-84d6-ad0a50225e1c"
      },
      "outputs": [
        {
          "output_type": "execute_result",
          "data": {
            "text/plain": [
              "(60, [30, 1, 2, 3, 4, 5, 6, 8, 9, 10, 11, 12, 13, 14, 15])"
            ]
          },
          "metadata": {},
          "execution_count": 71
        }
      ],
      "source": [
        "def demo_lateral_tipat(lista : list, elem : int) -> int:\n",
        "  lista.insert(0, elem)\n",
        "\n",
        "  return 2*elem\n",
        "\n",
        "def demo_lateral(lista, elem):\n",
        "  lista.insert(0, elem)\n",
        "\n",
        "  return 2*elem\n",
        "\n",
        "output = demo_lateral_tipat(lista_int, 30)\n",
        "\n",
        "output, lista_int"
      ]
    },
    {
      "cell_type": "markdown",
      "metadata": {
        "id": "Vm91nSomz4wD"
      },
      "source": [
        "Putem observa sintaxa unei funcții:\n",
        "* Antetul pornește cu keyword-ul `def`\n",
        "* Precum în celelalte blocuri de control, creștem identarea cu un tab pentru a semnala apartenența la blocul funcției\n",
        "* Tipul returnat de funcție este identificat de `-> tip`\n",
        "* Secvența de cod din funcție se poate termina cu return"
      ]
    },
    {
      "cell_type": "markdown",
      "metadata": {
        "id": "RavtmbQN0wsg"
      },
      "source": [
        "Această ultimă observație nu este obligatorie în general. Putem scrie funcții care nu returnează nimic per se, ci se bazează exclusiv pe efect lateral:"
      ]
    },
    {
      "cell_type": "code",
      "execution_count": 72,
      "metadata": {
        "colab": {
          "base_uri": "https://localhost:8080/"
        },
        "id": "BVV9zQm91BfV",
        "outputId": "9774e2ba-edb3-4090-be52-1120b187584d"
      },
      "outputs": [
        {
          "output_type": "execute_result",
          "data": {
            "text/plain": [
              "[30, 1, 2, 3, 4, 5, 6, 8, 9, 10, 11, 12, 13, 14, 15, 47]"
            ]
          },
          "metadata": {},
          "execution_count": 72
        }
      ],
      "source": [
        "def demo_no_return(lista : list):\n",
        "  lista.append(47)\n",
        "\n",
        "# Echivalent, putem scrie și:\n",
        "def demo_no_return(lista : list):\n",
        "  lista.append(47)\n",
        "  return\n",
        "\n",
        "demo_no_return(lista_int)\n",
        "\n",
        "lista_int"
      ]
    },
    {
      "cell_type": "markdown",
      "metadata": {
        "id": "PVgBNtFQ157G"
      },
      "source": [
        "Dacă executăm:"
      ]
    },
    {
      "cell_type": "code",
      "execution_count": 73,
      "metadata": {
        "id": "qa6dpcmA2ByV",
        "colab": {
          "base_uri": "https://localhost:8080/"
        },
        "outputId": "f950f3be-a383-43b7-c7d5-4836888b9396"
      },
      "outputs": [
        {
          "output_type": "execute_result",
          "data": {
            "text/plain": [
              "(None, True)"
            ]
          },
          "metadata": {},
          "execution_count": 73
        }
      ],
      "source": [
        "output = demo_no_return(lista_int)\n",
        "\n",
        "output, output == None"
      ]
    },
    {
      "cell_type": "markdown",
      "metadata": {
        "id": "2LCKbw7a2PIE"
      },
      "source": [
        "Ne dăm seama acum ce se petrece atunci când scriem lista = lista.append(element).\n",
        "\n",
        "Append este o metoda a clasei List ce realizeaza modificarile asupra obiectului curent prin efect lateral și nu returnează nimic."
      ]
    },
    {
      "cell_type": "markdown",
      "metadata": {
        "id": "SwtUTVOo1cbV"
      },
      "source": [
        "**[Good practice]** În general se preferă un coding style în care funcțiile să fie definite fără cod executabil sau doar cu unit teste ce îi vizează comportamentul, și de obicei se definesc helperele și funcția mare în aceeași celulă"
      ]
    },
    {
      "cell_type": "markdown",
      "metadata": {
        "id": "zws-NkF44_M4"
      },
      "source": [
        "Un Bad practice utilizat frecvent în Notebook-uri este reprezentat de utilizarea variabilelor neoferite ca parametru:"
      ]
    },
    {
      "cell_type": "code",
      "execution_count": 74,
      "metadata": {
        "colab": {
          "base_uri": "https://localhost:8080/"
        },
        "id": "QVtAKetw5OnM",
        "outputId": "e3ef1b3b-75c3-4c47-daa0-04f26bb00ad7"
      },
      "outputs": [
        {
          "output_type": "execute_result",
          "data": {
            "text/plain": [
              "11"
            ]
          },
          "metadata": {},
          "execution_count": 74
        }
      ],
      "source": [
        "def demo_bad_practice(elem : int) -> int:\n",
        "  return 2*elem + var\n",
        "\n",
        "demo_bad_practice(3)"
      ]
    },
    {
      "cell_type": "markdown",
      "metadata": {
        "id": "zZT2nG0-5qwM"
      },
      "source": [
        "Funcția are acces la contextul notebook-ului și deși var nu este definit în interiorul său, îl găsește pe cel executat anterior în secțiunea de variabile: `var : int = 5` și îl folosește pe acela.\n",
        "\n",
        "Deși este foarte la îndemână acest tip de a scrie funcții, încercați să oferiți tot ce aveți nevoie ca parametru, sau să creați clase cu atribute.\n",
        "\n",
        "Acest coding style ascunde foarte bine erori și vă forțează să aveți o mai mare precauție când rulați celule de mai sus decât nivelul curent al workflow-ului."
      ]
    },
    {
      "cell_type": "markdown",
      "metadata": {
        "id": "qFjA4rA32vso"
      },
      "source": [
        "___\n",
        "Dacă dorim să returnăm mai multe valori produse în interiorul funcției, putem folosi următoarea sintaxă:\n",
        "\n"
      ]
    },
    {
      "cell_type": "code",
      "execution_count": 75,
      "metadata": {
        "colab": {
          "base_uri": "https://localhost:8080/"
        },
        "id": "_VnmvTNh3Cnw",
        "outputId": "74fdb028-ab1c-4cba-8550-a224cfedac08"
      },
      "outputs": [
        {
          "output_type": "execute_result",
          "data": {
            "text/plain": [
              "(17, 1, 47)"
            ]
          },
          "metadata": {},
          "execution_count": 75
        }
      ],
      "source": [
        "def demo_multivals(lista):\n",
        "  return len(lista), min(lista), max(lista)\n",
        "\n",
        "# Prin pattern matching, fiecarei variabile ii este atribuita o valoare din cele returnate de functie\n",
        "lungime, minim, maxim = demo_multivals(lista_int)\n",
        "\n",
        "lungime, minim, maxim"
      ]
    },
    {
      "cell_type": "code",
      "execution_count": 76,
      "metadata": {
        "colab": {
          "base_uri": "https://localhost:8080/"
        },
        "id": "kzPXMwtF3lwN",
        "outputId": "f4ea5262-9c98-4cde-9855-2a4b0b99d757"
      },
      "outputs": [
        {
          "output_type": "execute_result",
          "data": {
            "text/plain": [
              "(17, 1, 47)"
            ]
          },
          "metadata": {},
          "execution_count": 76
        }
      ],
      "source": [
        "#Alternativ putem scrie și\n",
        "valori = demo_multivals(lista_int)\n",
        "\n",
        "#Și să accesăm elementele din tuplul valori\n",
        "valori[0], valori[1], valori[2]"
      ]
    },
    {
      "cell_type": "markdown",
      "metadata": {
        "id": "JulctiWN4FT6"
      },
      "source": [
        "Returnarea de valori multiple se realizează prin crearea unui tuplu."
      ]
    },
    {
      "cell_type": "markdown",
      "metadata": {
        "id": "QTRrS-pud_KF"
      },
      "source": [
        "În limbajul de programare Python, putem defini o funcție care să primească un număr variabil de argumente folosind asteriscul (*) în definiția funcției. În acest caz, argumentele sunt percepute drept un tuplu (care poate avea număr variabil de elemente).\n",
        "\n",
        "Iată un exemplu simplu:"
      ]
    },
    {
      "cell_type": "code",
      "execution_count": 77,
      "metadata": {
        "colab": {
          "base_uri": "https://localhost:8080/"
        },
        "id": "U4F8mFPIeG1M",
        "outputId": "42cadacc-0035-43d9-cc1c-f9720c50f55b"
      },
      "outputs": [
        {
          "output_type": "stream",
          "name": "stdout",
          "text": [
            "1\n",
            "2\n",
            "3\n",
            "a\n",
            "b\n",
            "True\n",
            "ana\n",
            "[1, 2, 3]\n",
            "1\n",
            "a\n"
          ]
        }
      ],
      "source": [
        "def functie_cu_numar_variabil_de_argumente(*args):\n",
        "    for arg in args:\n",
        "        print(arg)\n",
        "\n",
        "# Exemplu de utilizare\n",
        "functie_cu_numar_variabil_de_argumente(1, 2, 3, 'a', 'b')\n",
        "\n",
        "# Exemplu de apel\n",
        "lista_argumente = [True, \"ana\", [1, 2, 3], 1, 'a']\n",
        "functie_cu_numar_variabil_de_argumente(*lista_argumente)"
      ]
    },
    {
      "cell_type": "markdown",
      "metadata": {
        "id": "x-rDxb3eemtf"
      },
      "source": [
        "Funcțiile în Python pot avea argumente cu valori implicite, ceea ce înseamnă că aceste argumente primesc o valoare implicită, furnizată atunci când este definită funcția, ce este folosită în cazul în care nu este furnizată o altă valoare în momentul apelului funcției. Acest lucru adaugă flexibilitate și oferă posibilitatea apelării funcției cu un număr mai mic de argumente decât numărul total de parametri."
      ]
    },
    {
      "cell_type": "code",
      "execution_count": 78,
      "metadata": {
        "colab": {
          "base_uri": "https://localhost:8080/"
        },
        "id": "WJppnpz1fCod",
        "outputId": "b8932110-fd86-4a79-881c-ee7db9ee2f3f"
      },
      "outputs": [
        {
          "output_type": "stream",
          "name": "stdout",
          "text": [
            "3\n",
            "7\n",
            "11\n",
            "15\n"
          ]
        }
      ],
      "source": [
        "def suma(x=0, y=1, z=2):\n",
        "  return x + y + z\n",
        "\n",
        "print(suma())\n",
        "print(suma(4))\n",
        "print(suma(4,5))\n",
        "print(suma(4,5,6))"
      ]
    },
    {
      "cell_type": "markdown",
      "metadata": {
        "id": "BHLkqqPwfRIl"
      },
      "source": [
        "În Python, putem utiliza cuvinte cheie (keywords) pentru a furniza argumente la apelul funcțiilor. Aceasta permite specificarea valorilor pentru parametri prin numele acestora, fără a depinde strict de ordinea în care aceștia sunt definiți în funcție."
      ]
    },
    {
      "cell_type": "code",
      "execution_count": 79,
      "metadata": {
        "colab": {
          "base_uri": "https://localhost:8080/"
        },
        "id": "JtGv7jxufTEA",
        "outputId": "07594f0a-0989-454a-845e-8b3a9fc1ab36"
      },
      "outputs": [
        {
          "output_type": "stream",
          "name": "stdout",
          "text": [
            "The youngest child is Andrei\n",
            "His last name is Popescu\n"
          ]
        }
      ],
      "source": [
        "def my_function(child3, child2, child1):\n",
        "  print(\"The youngest child is \" + child3)\n",
        "\n",
        "my_function(child1 = \"Emil\",\n",
        "            child2 = \"Alex\",\n",
        "            child3 = \"Andrei\")\n",
        "\n",
        "def my_function(**kid):\n",
        "  print(\"His last name is \" + kid[\"lname\"])\n",
        "\n",
        "my_function(fname = \"Andrei\", lname = \"Popescu\")"
      ]
    },
    {
      "cell_type": "markdown",
      "metadata": {
        "id": "jeHlib44EDRG"
      },
      "source": [
        "# <u> Tupluri  </u>"
      ]
    },
    {
      "cell_type": "markdown",
      "metadata": {
        "id": "RZ5NXuimyIgG"
      },
      "source": [
        "Precum ați văzut, pe parcursul laboratorului, tuplurile sunt obiecte similare listelor, dar sunt imutabile."
      ]
    },
    {
      "cell_type": "code",
      "execution_count": 80,
      "metadata": {
        "id": "0Up8nNYzyIgH",
        "outputId": "ac404326-2f78-46fc-afd0-8dd86fd64d3b",
        "colab": {
          "base_uri": "https://localhost:8080/",
          "height": 164
        }
      },
      "outputs": [
        {
          "output_type": "error",
          "ename": "TypeError",
          "evalue": "'tuple' object does not support item assignment",
          "traceback": [
            "\u001b[0;31m---------------------------------------------------------------------------\u001b[0m",
            "\u001b[0;31mTypeError\u001b[0m                                 Traceback (most recent call last)",
            "\u001b[0;32m<ipython-input-80-2f01586fa7e7>\u001b[0m in \u001b[0;36m<cell line: 2>\u001b[0;34m()\u001b[0m\n\u001b[1;32m      1\u001b[0m \u001b[0mtuplu_error\u001b[0m \u001b[0;34m=\u001b[0m \u001b[0;34m(\u001b[0m\u001b[0;36m1\u001b[0m\u001b[0;34m,\u001b[0m\u001b[0;36m2\u001b[0m\u001b[0;34m,\u001b[0m\u001b[0;36m3\u001b[0m\u001b[0;34m)\u001b[0m\u001b[0;34m\u001b[0m\u001b[0;34m\u001b[0m\u001b[0m\n\u001b[0;32m----> 2\u001b[0;31m \u001b[0mtuplu_error\u001b[0m\u001b[0;34m[\u001b[0m\u001b[0;36m0\u001b[0m\u001b[0;34m]\u001b[0m \u001b[0;34m=\u001b[0m \u001b[0;36m4\u001b[0m\u001b[0;34m\u001b[0m\u001b[0;34m\u001b[0m\u001b[0m\n\u001b[0m",
            "\u001b[0;31mTypeError\u001b[0m: 'tuple' object does not support item assignment"
          ]
        }
      ],
      "source": [
        "tuplu_error = (1,2,3)\n",
        "tuplu_error[0] = 4\n"
      ]
    },
    {
      "cell_type": "markdown",
      "metadata": {
        "id": "XeLHE9jiyIgH"
      },
      "source": [
        "Primim eroarea care ne spune că obiectul de tip tuplu nu suportă modificarea elementelor.\n",
        "\n",
        "În cazul suprascrierii tuplului, se va crea un nou obiect de tip tuplu, care va fi alocat într-o nouă zonă de memorie, iar (1, 2, 3) va fi marcat pentru garbage collection."
      ]
    },
    {
      "cell_type": "code",
      "execution_count": 81,
      "metadata": {
        "id": "d0RdkqzryIgH"
      },
      "outputs": [],
      "source": [
        "tuplu_error = (1,2,3, [4,5,6])\n",
        "\n",
        "# Putem modifica în cadrul listei din tuplu, deoarece acesta reține referința către ea, iar valorile din listă sunt mutabile\n",
        "tuplu_error[3][0] = 7"
      ]
    },
    {
      "cell_type": "markdown",
      "metadata": {
        "id": "qDikeUCByIgH"
      },
      "source": [
        "Principalele moduri în care întâlnim tuplurile sunt:\n",
        "* Tuplurile rezultate din operatii de zip, enumerate, items ale unor dicționare\n",
        "* Memoizarea unei colecții de metrici corespunzătoare rulării curente a unui algoritm.\n",
        "* Returnarea mai multor valori dintr-o funcție"
      ]
    },
    {
      "cell_type": "markdown",
      "metadata": {
        "id": "7KtAUPhVyIgH"
      },
      "source": [
        "Luăm numele și notele studenților de la exemplul anterior:"
      ]
    },
    {
      "cell_type": "code",
      "execution_count": 82,
      "metadata": {
        "id": "xE969tlyyIgH",
        "outputId": "5238021e-25e8-4666-b33e-3c2baff534ee",
        "colab": {
          "base_uri": "https://localhost:8080/"
        }
      },
      "outputs": [
        {
          "output_type": "execute_result",
          "data": {
            "text/plain": [
              "[('Mihai', 10),\n",
              " ('Andreea', 10),\n",
              " ('Andrei', 8),\n",
              " ('Marcela', 7),\n",
              " ('Rodica', 9),\n",
              " ('Catalin', 8)]"
            ]
          },
          "metadata": {},
          "execution_count": 82
        }
      ],
      "source": [
        "lista_tupluri_note = list(note_dict.items())\n",
        "\n",
        "lista_tupluri_note"
      ]
    },
    {
      "cell_type": "markdown",
      "metadata": {
        "id": "M7BZZF2EyIgI"
      },
      "source": [
        "Cu ajutorul unei expresii lambda, putem să sortăm lista de tupluri în funcție de un anumit criteriu, în cazul nostru, nota."
      ]
    },
    {
      "cell_type": "code",
      "execution_count": null,
      "metadata": {
        "id": "4k4clg5jyIgI",
        "outputId": "51e3b6b3-7e93-4aa7-8df8-f7d6af10125d"
      },
      "outputs": [
        {
          "data": {
            "text/plain": [
              "[('Marcela', 7),\n",
              " ('Andrei', 8),\n",
              " ('Catalin', 8),\n",
              " ('Rodica', 9),\n",
              " ('Mihai', 10),\n",
              " ('Andreea', 10)]"
            ]
          },
          "execution_count": 85,
          "metadata": {},
          "output_type": "execute_result"
        }
      ],
      "source": [
        "lista_tupluri_note_sortate = sorted(lista_tupluri_note, key=lambda x: x[1]) # Pentru o sortare descrescătoare, putem folosi argumentul reverse=True\n",
        "\n",
        "lista_tupluri_note_sortate"
      ]
    },
    {
      "cell_type": "markdown",
      "metadata": {
        "id": "5WQZ4bbCyIgI"
      },
      "source": [
        "Pentru cea de-a doua funcționalitate a tuplurilor, o bibliotecă foarte utilă este reprezentată de `pickle`, care are rolul de a serializa obiecte Python, pentru a le salva în fișiere binare pe disc și a le reîncărca ulterior."
      ]
    },
    {
      "cell_type": "code",
      "execution_count": 83,
      "metadata": {
        "id": "NnWOsNdgyIgI"
      },
      "outputs": [],
      "source": [
        "metrica1 = np.linspace(0, 1, 10)\n",
        "metrica2 = np.random.rand(10)\n",
        "metrica3 = np.sin(np.linspace(0, 2*np.pi, 10))"
      ]
    },
    {
      "cell_type": "code",
      "execution_count": 84,
      "metadata": {
        "id": "tHn89-hHyIgJ",
        "outputId": "66dbb26d-8553-48f6-caec-54df6fbcac5c",
        "colab": {
          "base_uri": "https://localhost:8080/"
        }
      },
      "outputs": [
        {
          "output_type": "execute_result",
          "data": {
            "text/plain": [
              "(array([0.        , 0.11111111, 0.22222222, 0.33333333, 0.44444444,\n",
              "        0.55555556, 0.66666667, 0.77777778, 0.88888889, 1.        ]),\n",
              " array([0.70830736, 0.81508678, 0.58009636, 0.72728725, 0.89121083,\n",
              "        0.10278679, 0.96385974, 0.30827257, 0.73024795, 0.97152851]),\n",
              " array([ 0.00000000e+00,  6.42787610e-01,  9.84807753e-01,  8.66025404e-01,\n",
              "         3.42020143e-01, -3.42020143e-01, -8.66025404e-01, -9.84807753e-01,\n",
              "        -6.42787610e-01, -2.44929360e-16]))"
            ]
          },
          "metadata": {},
          "execution_count": 84
        }
      ],
      "source": [
        "metrica1, metrica2, metrica3"
      ]
    },
    {
      "cell_type": "code",
      "execution_count": 85,
      "metadata": {
        "id": "lqhfuqHoyIgJ"
      },
      "outputs": [],
      "source": [
        "# Scriem datele într-un fișier binar sub formă de tuplu\n",
        "with open('metrici.pkl', 'wb') as f:\n",
        "    pkl.dump((metrica1, metrica2, metrica3), f)"
      ]
    },
    {
      "cell_type": "code",
      "execution_count": 86,
      "metadata": {
        "id": "uFu6JkvJyIgJ"
      },
      "outputs": [],
      "source": [
        "with open('metrici.pkl', 'rb') as f:\n",
        "    m1, m2, m3 = pkl.load(f) # Citim datele din fișierul binar, corespunzătoare array-urilor metrica1, metrica2, metrica3"
      ]
    },
    {
      "cell_type": "code",
      "execution_count": 87,
      "metadata": {
        "id": "Fml0cM-9yIgJ",
        "outputId": "790a6b36-6af5-412c-f6aa-0b07d584d45b",
        "colab": {
          "base_uri": "https://localhost:8080/"
        }
      },
      "outputs": [
        {
          "output_type": "execute_result",
          "data": {
            "text/plain": [
              "(True, True, True)"
            ]
          },
          "metadata": {},
          "execution_count": 87
        }
      ],
      "source": [
        "# np.all face și logic între toate elementele arrayului de boolene rezultat din comparația elementelor array-urilor\n",
        "np.all(m1 == metrica1), np.all(m2 == metrica2), np.all(m3 == metrica3)"
      ]
    },
    {
      "cell_type": "markdown",
      "metadata": {
        "id": "c-wiAGD6qatg"
      },
      "source": [
        "# Exerciții cu liste [60p]"
      ]
    },
    {
      "cell_type": "markdown",
      "metadata": {
        "id": "hWLp1VoXqf9t"
      },
      "source": [
        "1. Implementați o funcție care determină și returnează elementul minim dintr-o listă cu numere primită ca parametru."
      ]
    },
    {
      "cell_type": "code",
      "execution_count": 88,
      "metadata": {
        "colab": {
          "base_uri": "https://localhost:8080/"
        },
        "id": "FJ1523tfqvkJ",
        "outputId": "ca85f2ea-0367-4ec5-b3d5-342c50122d4a"
      },
      "outputs": [
        {
          "output_type": "stream",
          "name": "stdout",
          "text": [
            "Elementul minim din lista este: 1\n"
          ]
        }
      ],
      "source": [
        "def minim(lista):\n",
        "  # TODO 1\n",
        "  min = lista[0]\n",
        "  for elem in lista:\n",
        "    if elem < min:\n",
        "      min = elem\n",
        "\n",
        "  return min\n",
        "\n",
        "\n",
        "\n",
        "  pass\n",
        "\n",
        "lista_numerica = [2, 8, 5, 1, 7, 3]\n",
        "rezultat = minim(lista_numerica)\n",
        "print(\"Elementul minim din lista este:\", rezultat) # Rezultatul așteptat este: 1"
      ]
    },
    {
      "cell_type": "markdown",
      "metadata": {
        "id": "Mw2Vg0atrB1s"
      },
      "source": [
        "2. Implementați o funcție care determină numărul de numere pare dintr-o listă de numere primită ca argument."
      ]
    },
    {
      "cell_type": "code",
      "execution_count": 91,
      "metadata": {
        "colab": {
          "base_uri": "https://localhost:8080/"
        },
        "id": "HCnfgp7grL2j",
        "outputId": "cd3541f9-9cdf-421b-e625-e70a07c8e165"
      },
      "outputs": [
        {
          "output_type": "stream",
          "name": "stdout",
          "text": [
            "Numarul de numere pare din lista este: 2\n"
          ]
        }
      ],
      "source": [
        "def pare(lista):\n",
        "  # TODO 2\n",
        "  count = 0\n",
        "  for elem in lista:\n",
        "    if elem % 2 == 0:\n",
        "      count = count + 1\n",
        "\n",
        "  return count\n",
        "  pass\n",
        "\n",
        "nr_pare = pare(lista_numerica)\n",
        "print(\"Numarul de numere pare din lista este:\", nr_pare) # Rezultatul așteptat este: 2"
      ]
    },
    {
      "cell_type": "markdown",
      "metadata": {
        "id": "eLGk9we9r7Ai"
      },
      "source": [
        "3. Implementați o funcție care primește ca argument o listă și returnează lista cu toate prefixele ei."
      ]
    },
    {
      "cell_type": "code",
      "execution_count": 104,
      "metadata": {
        "colab": {
          "base_uri": "https://localhost:8080/"
        },
        "id": "sCMWe68YsFcA",
        "outputId": "57a675cf-b0ec-4b5d-f574-0983b178c695"
      },
      "outputs": [
        {
          "output_type": "stream",
          "name": "stdout",
          "text": [
            "Prefixele listei sunt: [[2], [2, 8], [2, 8, 5], [2, 8, 5, 1], [2, 8, 5, 1, 7], [2, 8, 5, 1, 7, 3]]\n"
          ]
        }
      ],
      "source": [
        "def prefixe_lista(lista):\n",
        "  # TODO 3\n",
        "  prefixuri = []\n",
        "  for i in range(1, len(lista) + 1):\n",
        "    prefixuri.append(lista[0:i])\n",
        "\n",
        "  return prefixuri\n",
        "  pass\n",
        "\n",
        "rezultat = prefixe_lista(lista_numerica)\n",
        "print(\"Prefixele listei sunt:\", rezultat) # Rezultatul așteptat: [[2], [2, 8], [2, 8, 5], [2, 8, 5, 1], [2, 8, 5, 1, 7], [2, 8, 5, 1, 7, 3]]"
      ]
    },
    {
      "cell_type": "markdown",
      "metadata": {
        "id": "1LT_qC_IfpVU"
      },
      "source": [
        "4. Implementați o funcție care primește ca argument o listă cu numere întregi și întoarce două liste:\n",
        "- o listă cu elementele pare din lista primită ca argument (sortate crescător și fără duplicate);\n",
        "- o listă cu elementele impare din lista primită ca argument (sortate descrescător și fără duplicate).\n"
      ]
    },
    {
      "cell_type": "code",
      "execution_count": 105,
      "metadata": {
        "id": "tmy5wZatftXE",
        "colab": {
          "base_uri": "https://localhost:8080/"
        },
        "outputId": "bd16771b-3c3a-47a1-9f77-db378bf6501c"
      },
      "outputs": [
        {
          "output_type": "stream",
          "name": "stdout",
          "text": [
            "Lista cu elementele pare:  [2, 4, 8, 32, 42, 100]\n",
            "Lista cu elementele impare:  [21, 9, 7, 3, 3, 1, 1]\n"
          ]
        }
      ],
      "source": [
        "def sub_liste(lista):\n",
        "    lista_1 = []\n",
        "    lista_2 = []\n",
        "    for elem in lista:\n",
        "        if elem % 2 == 0:\n",
        "            lista_1.append(elem)\n",
        "        else:\n",
        "            lista_2.append(elem)\n",
        "\n",
        "    lista_1 = list(set(lista_1))\n",
        "    lista_1 = sorted(lista_1)\n",
        "    lista_2 = sorted(lista_2, reverse=True)\n",
        "\n",
        "    return lista_1, lista_2\n",
        "    pass\n",
        "\n",
        "lista_pare, lista_impare = sub_liste([1, 1, 2, 7, 3, 9, 8, 3, 2, 4, 100, 21, 32, 42])\n",
        "print(\"Lista cu elementele pare: \", lista_pare)\n",
        "print(\"Lista cu elementele impare: \", lista_impare)"
      ]
    },
    {
      "cell_type": "markdown",
      "metadata": {
        "id": "fl54N4M0mt53"
      },
      "source": [
        "# Exerciții compuse [20p]"
      ]
    },
    {
      "cell_type": "markdown",
      "metadata": {
        "id": "QpUG1FSIf0wx"
      },
      "source": [
        "5. Implementați o funcție care primește ca argumente două numere naturale, $n$ și $k$, și afișează toate perechile de numere naturale $(a, b)$ cu proprietatea că $10 < a < b \\le n$ și $a + b$ este divizibil cu $k$."
      ]
    },
    {
      "cell_type": "code",
      "execution_count": 112,
      "metadata": {
        "id": "yppo_XLgf5wz",
        "colab": {
          "base_uri": "https://localhost:8080/"
        },
        "outputId": "07e2299b-54d1-4f16-c313-e5489bf56a34"
      },
      "outputs": [
        {
          "output_type": "stream",
          "name": "stdout",
          "text": [
            "(11, 14)\n",
            "(12, 13)\n"
          ]
        }
      ],
      "source": [
        "def perechi(n, k):\n",
        "\n",
        "  for a in range(10, n):\n",
        "      for b in range(a + 1, n + 1):\n",
        "          if (a + b) % k == 0:\n",
        "              print((a, b))\n",
        "  # TODO 6\n",
        "  pass\n",
        "\n",
        "perechi(14, 5) # Rezultatul așteptat: (11, 14) și (12, 13)"
      ]
    },
    {
      "cell_type": "markdown",
      "metadata": {
        "id": "h4Ucoh2rh-aq"
      },
      "source": [
        "6. Implementați o funcție care primește un text și un prag k și returnează cuvintele care apar de minim k-ori ordonate crescător (Adaptare Interviu Adobe 2023)"
      ]
    },
    {
      "cell_type": "code",
      "execution_count": 132,
      "metadata": {
        "colab": {
          "base_uri": "https://localhost:8080/"
        },
        "id": "VsXprAxKjPpP",
        "outputId": "6c779b84-ee92-412c-b7f8-0fbdff19c014"
      },
      "outputs": [
        {
          "output_type": "stream",
          "name": "stdout",
          "text": [
            "{'un': 4, 'caine': 2, 'e': 2, 'mai': 2, 'mic': 1, 'decat': 2, 'om': 2, 'dar': 1, 'mult': 1, 'putin': 1, 'prietenos': 1}\n",
            "{'mic': 1, 'dar': 1, 'mult': 1, 'putin': 1, 'prietenos': 1, 'caine': 2, 'e': 2, 'mai': 2, 'decat': 2, 'om': 2, 'un': 4}\n",
            "['caine', 'e', 'mai', 'decat', 'om', 'un']\n",
            "Cuvintele care apar de minim 2-ori sunt: ['caine', 'e', 'mai', 'decat', 'om', 'un']\n"
          ]
        }
      ],
      "source": [
        "def cuvinte_peste_prag(text : str, k : int) -> list[str]:\n",
        "  # TODO 6\n",
        "\n",
        "  # TODO: Eliminați semnele de punctuație\n",
        "  nu_semne = text.replace(\",\", \"\")\n",
        "  #print(nu_semne)\n",
        "  # TODO: Tokenizați stringul curent\n",
        "  tokens = nu_semne.split()\n",
        "  #print(tokens)\n",
        "  #print(type(tokens))\n",
        "  # TODO: Numărați cu ajutorul unui dicționar frecvențele de apariție ale cuvintelor\n",
        "  word_frequency = {}\n",
        "  def num_aparitii(lista):\n",
        "    for word in lista :\n",
        "      word = word.lower()\n",
        "      word_frequency[word] = word_frequency.get(word, 0) + 1\n",
        "\n",
        "    return word_frequency\n",
        "  word_frequency = num_aparitii(tokens)\n",
        "  print(word_frequency)\n",
        "  # TODO: Ordonați crescător lista de cuvinte și frecvențe după frecvențe\n",
        "  sorted_word_frequency = dict(sorted(word_frequency.items(), key=lambda x: x[1]))\n",
        "\n",
        "  print(sorted_word_frequency)\n",
        "  # TODO: Extrageți cuvintele din lista de tupluri ordonate\n",
        "  lista_de_cuvinte = []\n",
        "  for pair in sorted_word_frequency:\n",
        "    if sorted_word_frequency[pair] >= k:\n",
        "      lista_de_cuvinte.append(pair)\n",
        "\n",
        "  return lista_de_cuvinte\n",
        "\n",
        "  pass\n",
        "\n",
        "\n",
        "text = \"un caine e mai mic decat un om, dar un om e mult mai putin prietenos decat un caine\"\n",
        "k = 2\n",
        "\n",
        "rezultat = cuvinte_peste_prag(text, k)\n",
        "print(f\"Cuvintele care apar de minim {k}-ori sunt:\", rezultat) # Rezultatul așteptat: ['caine', 'e', 'mai', 'decat', 'om', 'un']"
      ]
    }
  ],
  "metadata": {
    "colab": {
      "provenance": []
    },
    "kernelspec": {
      "display_name": "Python 3 (ipykernel)",
      "language": "python",
      "name": "python3"
    },
    "language_info": {
      "codemirror_mode": {
        "name": "ipython",
        "version": 3
      },
      "file_extension": ".py",
      "mimetype": "text/x-python",
      "name": "python",
      "nbconvert_exporter": "python",
      "pygments_lexer": "ipython3",
      "version": "3.9.13"
    }
  },
  "nbformat": 4,
  "nbformat_minor": 0
}