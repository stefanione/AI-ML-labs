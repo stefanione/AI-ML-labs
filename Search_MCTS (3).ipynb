{
  "cells": [
    {
      "cell_type": "markdown",
      "metadata": {
        "id": "w16WdEXY3StB"
      },
      "source": [
        "# Algoritmi MCTS. Aplicație: Connect Four\n",
        " - Tudor Berariu\n",
        " - Andrei Olaru"
      ]
    },
    {
      "cell_type": "markdown",
      "metadata": {
        "id": "HevFab5_3StD"
      },
      "source": [
        "## Scopul laboratorului\n",
        "\n",
        "Scopul acestui laborator este acela de a implementa un algoritm din familia **MCTS** (_Monte Carlo Tree Search_), și anume **UCT** (_Upper Confidence Bound for Trees_).\n",
        "\n",
        "Pentru a testa algoritmul vom folosi jocul _Connect Four_.\n",
        "\n",
        "Prima parte a laboratorului construiește funcțiile necesare desfășurarea jocului _Connect Four_, iar cea de-a doua parte urmărește implementarea pas cu pas a algoritmului **UCT**.\n",
        "\n",
        "#### Resurse\n",
        "\n",
        "https://en.wikipedia.org/wiki/Monte_Carlo_tree_search\n",
        "\n",
        "Slides curs IA despre Căutare în Jocuri"
      ]
    },
    {
      "cell_type": "markdown",
      "metadata": {
        "id": "4SRBeBKJ3StE"
      },
      "source": [
        "## Jocul _Connect Four_\n",
        "\n",
        "### Descrierea jocului\n",
        "\n",
        "Jocul _Connect Four_ lucrează cu o matrice verticală de **înălțime 6** și **lățime 7** în care doi jucători dau drumul unor jetoane de culori diferite (un jucător are jetoane roșii, iar celălalt albastre). La fiecare mutare, un jucător alege o coloană din cele 7 și dă drumul jetonului. Acesta _cade_, așezându-se pe prima poziție liberă din acea coloană. Într-o coloană nu se pot așeza mai mult de șase jetoane. Câștigă acel jucător care reușește să așeze *patru* dintre jetoanele lui (de aceeași culoare) într-o linie pe orizontală, verticală sau diagonală.\n",
        "\n",
        "### Reprezentarea stărilor\n",
        "\n",
        "Starea jocului va fi reprezentată printr-un tuplu format din două elemente:\n",
        " - o listă ce va conține 7 liste corespunzătoare celor 7 coloane\n",
        "   + fiecare listă va avea lungimea 6 și va conține 0 (poziție liberă), 1 (jeton roșu) și 2 (jeton albastru)\n",
        "   + poziția 0 din listă corespunde rândului cel mai de jos\n",
        " - indicatorul jucătorului ce trebuie să _mute_: 1 pentru roșu, 2 pentru jucătorul albastru."
      ]
    },
    {
      "cell_type": "code",
      "execution_count": 1,
      "metadata": {
        "colab": {
          "base_uri": "https://localhost:8080/"
        },
        "id": "MyQcC_GC3StE",
        "outputId": "42b47f64-456e-498b-f85c-54170d261846"
      },
      "outputs": [
        {
          "output_type": "stream",
          "name": "stdout",
          "text": [
            "Starea inițială:\n",
            "|       |\n",
            "|       |\n",
            "|       |\n",
            "|       |\n",
            "|       |\n",
            "|       |\n",
            "+-------+\n",
            "Urmează: 1 - ROȘU\n"
          ]
        }
      ],
      "source": [
        "# Dimensiunile matricei\n",
        "HEIGHT, WIDTH = 6, 7\n",
        "\n",
        "# Pozițiile din tuplul ce constituie o stare\n",
        "BOARD, NEXT_PLAYER = 0, 1\n",
        "\n",
        "# Jucătorii\n",
        "RED, BLUE, DRAW = 1, 2, 3\n",
        "name = [\"\", \"ROȘU\", \"ALBASTRU\", \"REMIZĂ\"]\n",
        "\n",
        "# Funcție ce întoarce o stare inițială\n",
        "def init_state():\n",
        "    return ([[0 for row in range(HEIGHT)] for col in range(WIDTH)], RED)\n",
        "\n",
        "# Funcție ce afișează o stare\n",
        "def print_state(state):\n",
        "    for row in range(HEIGHT-1, -1, -1):\n",
        "        ch = \" RA\"\n",
        "        l = map(lambda col: ch[state[BOARD][col][row]], range(WIDTH))\n",
        "        print(\"|\" + \"\".join(l) + \"|\")\n",
        "    print(\"+\" + \"\".join(\"-\" * WIDTH) + \"+\")\n",
        "    print(\"Urmează: %d - %s\" % (state[NEXT_PLAYER], name[state[NEXT_PLAYER]]))\n",
        "\n",
        "# Se afișează starea inițială a jocului\n",
        "print(\"Starea inițială:\")\n",
        "print_state(init_state())"
      ]
    },
    {
      "cell_type": "markdown",
      "metadata": {
        "id": "KL0mzptY3StF"
      },
      "source": [
        "### Mutările\n",
        "\n",
        "Cum toată informația necesară pentru a descrie o mutare este dată de coloana în care un jucător a ales să își așeze jetonul, o acțiune va fi reprezentată simplu printr-un număr.\n",
        "\n",
        "**Cerința 1:** Completați funcția `get_available_actions(state)` care primește o stare și întoarce acțiunile corecte (o listă cu acele coloane care nu sunt _pline_).\n",
        "\n",
        "Funcția `apply_action(state, action)` este deja implementată (întoarce o stare nouă, nu o modifică pe cea dată ca argument)."
      ]
    },
    {
      "cell_type": "code",
      "execution_count": 2,
      "metadata": {
        "colab": {
          "base_uri": "https://localhost:8080/"
        },
        "id": "2eUu1YG83StG",
        "outputId": "cfd8c176-54eb-4ccb-b911-40f3b9892a9c"
      },
      "outputs": [
        {
          "output_type": "stream",
          "name": "stdout",
          "text": [
            "|   A   |\n",
            "|   R   |\n",
            "|   A   |\n",
            "|   R   |\n",
            "|  RR   |\n",
            "|  ARA A|\n",
            "+-------+\n",
            "Urmează: 1 - ROȘU\n"
          ]
        },
        {
          "output_type": "execute_result",
          "data": {
            "text/plain": [
              "[0, 1, 2, 4, 5, 6]"
            ]
          },
          "metadata": {},
          "execution_count": 2
        }
      ],
      "source": [
        "# Funcție ce întoarce acțiunile valide dintr-o stare dată\n",
        "def get_available_actions(state):\n",
        "    # TODO <1>\n",
        "    actions_available = []\n",
        "    list_moves = state[BOARD]\n",
        "    index = 0\n",
        "    for move in list_moves:\n",
        "      if 0 in move:\n",
        "        actions_available.append(index)\n",
        "      index += 1\n",
        "    return actions_available\n",
        "\n",
        "from copy import deepcopy\n",
        "from functools import reduce\n",
        "\n",
        "# Funcție ce întoarce starea în care se ajunge prin aplicarea unei acțiuni\n",
        "def apply_action(state, action):\n",
        "    if action >= len(state[BOARD]) or 0 not in state[BOARD][action]:\n",
        "        print(\"Action \" + str(action) + \" is not valid.\")\n",
        "        return None\n",
        "    new_board = deepcopy(state[BOARD])\n",
        "    new_board[action][new_board[action].index(0,0)] = state[NEXT_PLAYER]\n",
        "    return (new_board, 3 - state[NEXT_PLAYER])\n",
        "\n",
        "\n",
        "# Se afișează starea la care se ajunge prin aplicarea unor acțiuni\n",
        "somestate = reduce(apply_action, [3, 4, 3, 2, 2, 6, 3, 3, 3, 3], init_state())\n",
        "print_state(somestate)\n",
        "get_available_actions(somestate)"
      ]
    },
    {
      "cell_type": "markdown",
      "metadata": {
        "id": "noUFMpJT3StG"
      },
      "source": [
        "### Stările finale\n",
        "\n",
        "Pentru a verifica dacă o stare este finală:\n",
        " - se verifică dacă ultimul jucător care a mutat a câștigat\n",
        " - sau dacă matricea este _plină_\n",
        "\n",
        "Funcția `is_final(state)` va întoarce:\n",
        " - `False` dacă starea nu este finală,\n",
        " - `1` dacă a câștigat Roșu,\n",
        " - `2` dacă a câștigat Albastru și\n",
        " - `3` dacă este remiză."
      ]
    },
    {
      "cell_type": "code",
      "execution_count": 3,
      "metadata": {
        "id": "SipdgihM3StG"
      },
      "outputs": [],
      "source": [
        "# Funcție ce verifică dacă o stare este finală\n",
        "def is_final(state):\n",
        "    # Verificăm dacă matricea este plină\n",
        "    if not any([0 in col for col in state[BOARD]]): return 3\n",
        "    # Jucătorul care doar ce a mutat ar putea să fie câștigător\n",
        "    player = 3 - state[NEXT_PLAYER]\n",
        "\n",
        "    ok = lambda pos: all([state[BOARD][c][r] == player for (r, c) in pos])\n",
        "    # Verificăm verticale\n",
        "    for row in range(HEIGHT):\n",
        "        for col in range(WIDTH - 4):\n",
        "            if ok([(row, col + i) for i in range(4)]): return player\n",
        "    # Verificăm orizontale\n",
        "    for col in range(WIDTH):\n",
        "        for row in range(HEIGHT-4):\n",
        "            if ok([(row + i, col) for i in range(4)]): return player\n",
        "    # Verificăm diagonale\n",
        "    for col in range(WIDTH-4):\n",
        "        for row in range(HEIGHT-4):\n",
        "            if ok([(row + i, col+i) for i in range(4)]): return player\n",
        "    for col in range(WIDTH-4):\n",
        "        for row in range(HEIGHT-4):\n",
        "            if ok([(row + i, col+4-i) for i in range(4)]): return player\n",
        "    return False"
      ]
    },
    {
      "cell_type": "code",
      "execution_count": 4,
      "metadata": {
        "colab": {
          "base_uri": "https://localhost:8080/"
        },
        "id": "YvSmLQuR3StH",
        "outputId": "0d23ef9d-8525-4d42-e04b-d2366fa52082"
      },
      "outputs": [
        {
          "output_type": "stream",
          "name": "stdout",
          "text": [
            "([[0, 0, 0, 0, 0, 0], [0, 0, 0, 0, 0, 0], [0, 0, 0, 0, 0, 0], [0, 0, 0, 0, 0, 0], [0, 0, 0, 0, 0, 0], [0, 0, 0, 0, 0, 0], [0, 0, 0, 0, 0, 0]], 1)\n",
            "|       |\n",
            "|       |\n",
            "|       |\n",
            "| R R A |\n",
            "| A R AA|\n",
            "| RRRRAA|\n",
            "+-------+\n",
            "Urmează: 2 - ALBASTRU\n",
            "Învingător: ROȘU\n"
          ]
        }
      ],
      "source": [
        "# Ajungem la o stare finală oarecare și o afișăm.\n",
        "from random import choice\n",
        "\n",
        "rand_state = init_state()\n",
        "print(rand_state)\n",
        "while not is_final(rand_state):\n",
        "    actions = get_available_actions(rand_state)\n",
        "    if not actions:\n",
        "        break\n",
        "    action = choice(get_available_actions(rand_state))\n",
        "    rand_state = apply_action(rand_state, action)\n",
        "\n",
        "print_state(rand_state)\n",
        "print(\"Învingător: %s\" % (name[is_final(rand_state)]))"
      ]
    },
    {
      "cell_type": "code",
      "execution_count": 5,
      "metadata": {
        "colab": {
          "base_uri": "https://localhost:8080/"
        },
        "id": "bnqHlnGg3StH",
        "outputId": "91e633f2-3c28-4c28-83ee-50264f61e5c2"
      },
      "outputs": [
        {
          "output_type": "stream",
          "name": "stdout",
          "text": [
            "|       |\n",
            "|       |\n",
            "|       |\n",
            "| R     |\n",
            "| RR    |\n",
            "| RAAAA |\n",
            "+-------+\n",
            "Urmează: 1 - ROȘU\n",
            "Învingător: ALBASTRU\n"
          ]
        }
      ],
      "source": [
        "# Exemplu: Se afișează starea obținută prin aplicarea unor acțiuni\n",
        "all_actions = [1, 2, 1, 3, 1, 4, 2, 5]\n",
        "some_state = reduce(apply_action, all_actions, init_state())\n",
        "print_state(some_state)\n",
        "print(\"Învingător: %s\" % (name[is_final(some_state)]))"
      ]
    },
    {
      "cell_type": "markdown",
      "metadata": {
        "id": "y-Yudvbm3StH"
      },
      "source": [
        "## Algoritmul UCT\n",
        "\n",
        "Algoritmii din familia MCTS conțin patru etape importante:\n",
        " - **selecție** - o strategie de alegere a unei acțiuni pentru a exploata\n",
        " - **extindere** - construirea unui nod nou în arbore\n",
        " - **simulare** - desfășurarea unui joc în mod aleator către o stare finală\n",
        " - **propagare înapoi** - actualizarea statisticilor pentru toate nodurile\n",
        "\n",
        "\n",
        "### Reprezentarea unui nod\n",
        "\n",
        "Un nod din arborele de stări va fi un dicționar ce conține:\n",
        " - numărul de vizitări `N` -- de câte ori s-au realizat simulări din acel nod sau dintr-un descendent al său.\n",
        " - valoarea estimată `Q` -- o indicație a calității nodului, bazat pe numărul jocurilor câștigate pornind din acel nod.\n",
        " - o referință la starea care îi corespunde -- `STATE`\n",
        " - o referință către nodul părinte -- `PARENT`\n",
        " - lista copiilor -- `ACTIONS` -- un dicționar care conține, pentru fiecare acțiune explorată, o referință către nodul următor\n",
        "\n",
        "Exemplu de nod corespunzător unei stări.\n",
        "\n",
        "    {N: 7, Q: 2.5, STATE: ([[0, 0, 0, 0, 0, 0], ...], 1) PARENT: None, ACTIONS: {0: {N: 3, ...}, 1: {N: 4, ...}}}\n",
        "    \n",
        "### Desfășurarea algoritmului\n",
        "\n",
        "1. Dacă algoritmul pornește cu un arbore gol (fără memorie), atunci se construiește un nod nou.\n",
        "   Altfel se alege subarborele corespunzător ultimei acțiuni a adversarului. (`TODO3`)\n",
        "\n",
        "2. Până când se atinge limita bugetului de calcul:\n",
        "  1. pornind din rădăcină, se alege succesiv un nod următor până când se atinge o stare finală (`is_final`) sau un nod din care nu s-au explorat toate acțiunile posibile (`TODO2` și `TODO4`)\n",
        "  2. pentru un nod care nu este final și din care nu s-au explorat toate acțiunile, se construiește un nod-copil pentru una dintre acțiunile neexplorate\n",
        "  3. se simulează un joc pornind din nodul nou până într-o stare finală (`TODO5`)\n",
        "  4. se evaluează starea finală și se calculează o recompensă (`TODO6`)\n",
        "  5. se propagă înapoi acea recompensă, actualizându-se și statisticile (numărul de vizite) pentru fiecare nod până la rădăcină (`TODO7`)"
      ]
    },
    {
      "cell_type": "code",
      "execution_count": 6,
      "metadata": {
        "id": "CwiBK5NE3StH"
      },
      "outputs": [],
      "source": [
        "# Constante\n",
        "\n",
        "N = 'N'\n",
        "Q = 'Q'\n",
        "STATE = 'state'\n",
        "PARENT = 'parent'\n",
        "ACTIONS = 'actions'"
      ]
    },
    {
      "cell_type": "markdown",
      "metadata": {
        "id": "-4YGdGl93StI"
      },
      "source": [
        "### Afișarea unui arbore"
      ]
    },
    {
      "cell_type": "code",
      "execution_count": 7,
      "metadata": {
        "id": "bXDZZ56k3StI"
      },
      "outputs": [],
      "source": [
        "def print_tree(tree, indent = 0):\n",
        "    if not tree:\n",
        "        return\n",
        "    tab = \"\".join(\" \" * indent)\n",
        "    print(\"%sN = %d, Q = %f\" % (tab, tree[N], tree[Q]))\n",
        "    for a in tree[ACTIONS]:\n",
        "        print(\"%s %d ==> \" % (tab, a))\n",
        "        print_tree(tree[ACTIONS][a], indent + 3)"
      ]
    },
    {
      "cell_type": "markdown",
      "metadata": {
        "id": "FqajqUA73StI"
      },
      "source": [
        "### Algoritm"
      ]
    },
    {
      "cell_type": "code",
      "execution_count": 8,
      "metadata": {
        "id": "T7kfIMKU3StI"
      },
      "outputs": [],
      "source": [
        "# Funcție ce întoarce un nod nou,\n",
        "# eventual copilul unui nod dat ca argument\n",
        "def init_node(state, parent = None):\n",
        "    return {N: 0, Q: 0, STATE: state, PARENT: parent, ACTIONS: {}}"
      ]
    },
    {
      "cell_type": "code",
      "execution_count": 10,
      "metadata": {
        "colab": {
          "base_uri": "https://localhost:8080/"
        },
        "id": "sWQ5rPxE3StI",
        "outputId": "ce10ab2a-37e4-4b38-e9f0-b7b32a488108"
      },
      "outputs": [
        {
          "output_type": "stream",
          "name": "stdout",
          "text": [
            "5\n",
            "3\n"
          ]
        }
      ],
      "source": [
        "from math import sqrt, log\n",
        "\n",
        "# constanta care reglează raportul între explorare și exploatare (CP = 0 -> doar exploatare)\n",
        "CP = 1.0 / sqrt(2.0)\n",
        "\n",
        "# Funcție ce alege o acțiune dintr-un nod\n",
        "def select_action(node, c = CP):\n",
        "    N_node = node[N]\n",
        "    best_action = None\n",
        "    best_expr = -1\n",
        "    actions = node[ACTIONS].items()\n",
        "\n",
        "    for action, next_node in actions:\n",
        "      # TODO <2>\n",
        "      # Se caută acțiunea a care maximizează expresia:\n",
        "      # Q_a / N_a  +  c * sqrt(2 * log(N_node) / N_a)\n",
        "\n",
        "      expr = next_node[Q] / (next_node[N] + 1e-6) + c * sqrt(2 * log(N_node) / (next_node[N] + 1e-6))\n",
        "      if expr > best_expr:\n",
        "        best_expr = expr\n",
        "        best_action = action\n",
        "\n",
        "    return best_action\n",
        "\n",
        "# Scurtă testare\n",
        "test_root = {N: 6, Q: 0.75, PARENT: None, ACTIONS: {}}\n",
        "test_root[ACTIONS][3] = {N: 4, Q: 0.9, PARENT: test_root, ACTIONS: {}}\n",
        "test_root[ACTIONS][5] = {N: 2, Q: 0.1, PARENT: test_root, ACTIONS: {}}\n",
        "\n",
        "print(select_action(test_root, CP))  # ==> 5 (0.8942 < 0.9965)\n",
        "print(select_action(test_root, 0.3)) # ==> 3 (0.50895 > 0.45157)"
      ]
    },
    {
      "cell_type": "code",
      "execution_count": 31,
      "metadata": {
        "id": "SQuGzABR3StI"
      },
      "outputs": [],
      "source": [
        "# Algoritmul MCTS (UCT)\n",
        "#  state0 - starea pentru care trebuie aleasă o acțiune\n",
        "#  budget - numărul de iterații permis / numărul de noduri care va fi construit\n",
        "#  tree - un arbore din explorările anterioare, dacă există\n",
        "#  opponent_s_action - ultima acțiune a adversarului, dacă există\n",
        "\n",
        "def mcts(state0, budget, tree, opponent_s_action = None):\n",
        "    # TODO <3>\n",
        "    # DACĂ există un arbore construit anterior ȘI\n",
        "    #   acesta are un copil ce corespunde ultimei acțiuni a adversarului,\n",
        "    # ATUNCI acel copil va deveni nodul de început pentru algoritm.\n",
        "    # ALTFEL, arborele de start este un nod gol.\n",
        "\n",
        "    if tree and opponent_s_action in tree[ACTIONS]:\n",
        "      tree = tree[ACTIONS][opponent_s_action]\n",
        "    else:\n",
        "      tree = init_node(state0)\n",
        "\n",
        "    #---------------------------------------------------------------\n",
        "\n",
        "    for x in range(budget):\n",
        "        # Pornim procesul de selecție din nodul rădăcină / starea inițială\n",
        "        state = state0\n",
        "        node = tree\n",
        "\n",
        "        # TODO <4>\n",
        "        # Coborâm în arbore până când ajungem la o stare finală\n",
        "        # sau la un nod cu acțiuni neexplorate.\n",
        "        while (not is_final(state) and all(action in node[ACTIONS] for action in get_available_actions(state))):\n",
        "          new_action = select_action(node)\n",
        "          state = apply_action(state, new_action) # starea in care ajungem prin aplicarea unei actiuni\n",
        "          node = node[ACTIONS][new_action]\n",
        "\n",
        "        #---------------------------------------------------------------\n",
        "\n",
        "        # TODO <5>\n",
        "        # Dacă am ajuns într-un nod care nu este final și din care nu s-au\n",
        "        # `încercat` toate acțiunile, construim un nod nou.\n",
        "\n",
        "        if not is_final(state):\n",
        "          new_action = choice(list(filter(lambda a: a not in node[ACTIONS], get_available_actions(state))))\n",
        "          state = apply_action(state, new_action)\n",
        "          new_node = init_node(state)\n",
        "          new_node[N] = node[N]\n",
        "          new_node[Q] = node[Q]\n",
        "          new_node[PARENT] = node\n",
        "          node[ACTIONS][new_action] = new_node\n",
        "\n",
        "\n",
        "        #---------------------------------------------------------------\n",
        "\n",
        "        # TODO <6>\n",
        "        # Se simulează o desfășurare a jocului până la ajungerea într-o\n",
        "        # starea finală. Se evaluează recompensa în acea stare.\n",
        "        state = node[STATE] # de înlocuit cu node[STATE]\n",
        "        while not is_final(state):\n",
        "          available_actions = get_available_actions(state)\n",
        "          if available_actions:\n",
        "            action = choice(available_actions)\n",
        "            state = apply_action(state, action)\n",
        "          else:\n",
        "            break\n",
        "\n",
        "\n",
        "        winner = is_final(state)\n",
        "        if winner == state0[NEXT_PLAYER]:\n",
        "            reward = 1\n",
        "        elif winner == (3 - state0[NEXT_PLAYER]):\n",
        "            reward = 0.0\n",
        "        elif winner == 3:\n",
        "            reward = 0.25\n",
        "        else:\n",
        "            reward = 0.5\n",
        "        #---------------------------------------------------------------\n",
        "\n",
        "        # TODO <7>\n",
        "        # Se actualizează toate nodurile de la node către rădăcină:\n",
        "        #  - se incrementează valoarea N din fiecare nod\n",
        "        #  - pentru nodurile corespunzătoare acestui jucător, se adună recompensa la valoarea Q\n",
        "        #  - pentru nodurile celelalte, valoarea Q se adună 1 cu minus recompensa\n",
        "\n",
        "        while node:\n",
        "          node[N] += 1\n",
        "          if node[STATE][NEXT_PLAYER] != state0[NEXT_PLAYER]:\n",
        "            node[Q] += reward\n",
        "          else:\n",
        "            node[Q] += (1 - reward)\n",
        "          node = node[PARENT]\n",
        "\n",
        "        #---------------------------------------------------------------\n",
        "\n",
        "    if tree:\n",
        "        final_action = select_action(tree, 0.0)\n",
        "        if final_action is not None and final_action in tree[ACTIONS]:\n",
        "          return (final_action, tree[ACTIONS][final_action])\n",
        "    # Acest cod este aici doar ca să nu dea erori testele mai jos; în mod normal tree nu trebuie să fie None\n",
        "    if get_available_actions(state0):\n",
        "        return (get_available_actions(state0)[0], init_node()) # init_node(state0)\n",
        "    return (0, init_node(state0))"
      ]
    },
    {
      "cell_type": "code",
      "execution_count": 34,
      "metadata": {
        "colab": {
          "base_uri": "https://localhost:8080/"
        },
        "id": "-1uenDuF3StJ",
        "outputId": "fe56e163-3098-42c0-844f-e6f1ad2123a7"
      },
      "outputs": [
        {
          "output_type": "stream",
          "name": "stdout",
          "text": [
            "3\n",
            "N = 20, Q = 9.000000\n",
            " 2 ==> \n",
            "   N = 5, Q = 2.000000\n",
            "    4 ==> \n",
            "      N = 0, Q = 0.000000\n",
            "    5 ==> \n",
            "      N = 1, Q = 0.000000\n",
            "    3 ==> \n",
            "      N = 2, Q = 1.000000\n",
            "    6 ==> \n",
            "      N = 3, Q = 2.000000\n",
            "    0 ==> \n",
            "      N = 4, Q = 2.000000\n",
            " 4 ==> \n",
            "   N = 2, Q = 0.000000\n",
            "    2 ==> \n",
            "      N = 1, Q = 0.000000\n",
            " 6 ==> \n",
            "   N = 4, Q = 2.000000\n",
            "    2 ==> \n",
            "      N = 2, Q = 1.000000\n",
            "    1 ==> \n",
            "      N = 3, Q = 2.000000\n",
            " 3 ==> \n",
            "   N = 8, Q = 6.000000\n",
            "    2 ==> \n",
            "      N = 3, Q = 2.000000\n",
            "    1 ==> \n",
            "      N = 4, Q = 3.000000\n",
            "    5 ==> \n",
            "      N = 5, Q = 4.000000\n",
            "    3 ==> \n",
            "      N = 6, Q = 5.000000\n",
            "    4 ==> \n",
            "      N = 7, Q = 5.000000\n",
            " 0 ==> \n",
            "   N = 4, Q = 2.000000\n",
            " 1 ==> \n",
            "   N = 5, Q = 2.000000\n",
            " 5 ==> \n",
            "   N = 6, Q = 2.000000\n"
          ]
        }
      ],
      "source": [
        "# Testare MCTS\n",
        "(action, tree) = mcts(init_state(), 20, None, None)\n",
        "print(action)\n",
        "if tree: print_tree(tree[PARENT]) # Trebuie ca arborele să fie destul de echilibrat, nu dezechilibrat"
      ]
    },
    {
      "cell_type": "markdown",
      "metadata": {
        "id": "Z3EZCmS63StJ"
      },
      "source": [
        "## Evaluarea algoritmului\n",
        "\n",
        "Funcția de mai jos opune doi jucători ce folosesc algoritmul UCT pentru a decide asupra acțiunii dintr-o stare."
      ]
    },
    {
      "cell_type": "code",
      "execution_count": 35,
      "metadata": {
        "id": "WFceqBe83StJ"
      },
      "outputs": [],
      "source": [
        "def play_games(games_no, budget1, budget2, verbose = False):\n",
        "    # Efortul de căutare al jucătorilor\n",
        "    budget = [budget1, budget2]\n",
        "\n",
        "    score = {p: 0 for p in name}\n",
        "\n",
        "    for i in range(games_no):\n",
        "        # Memoriile inițiale\n",
        "        memory = [None, None]\n",
        "\n",
        "        # Se desfășoară jocul\n",
        "        state = init_state()\n",
        "        last_action = None\n",
        "\n",
        "        while state and not is_final(state):\n",
        "            p = state[NEXT_PLAYER] - 1\n",
        "            (action, memory[p]) = mcts(state, budget[p], memory[p], last_action)\n",
        "            state = apply_action(state, action)\n",
        "            last_action = action\n",
        "\n",
        "        # Cine a câștigat?\n",
        "        if(state):\n",
        "            winner = is_final(state)\n",
        "            score[name[winner]] += + 1\n",
        "\n",
        "        # Afișăm\n",
        "        if verbose and state:\n",
        "            print_state(state)\n",
        "            if winner == 3: print(\"Remiză.\")\n",
        "            else: print(\"A câștigat %s\" % name[winner])\n",
        "\n",
        "    # Afișează scorul final\n",
        "    if verbose:\n",
        "        print(\"Scor final: %s.\" % (str(score)))\n",
        "    return score"
      ]
    },
    {
      "cell_type": "code",
      "execution_count": 37,
      "metadata": {
        "colab": {
          "base_uri": "https://localhost:8080/"
        },
        "id": "rJb24N-C3StJ",
        "outputId": "e8a58e46-dcb3-463d-faa8-718e7c315919"
      },
      "outputs": [
        {
          "output_type": "stream",
          "name": "stdout",
          "text": [
            "|       |\n",
            "|       |\n",
            "|       |\n",
            "|       |\n",
            "|RA  RRA|\n",
            "|RAAAARR|\n",
            "+-------+\n",
            "Urmează: 1 - ROȘU\n",
            "A câștigat ALBASTRU\n",
            "|       |\n",
            "|       |\n",
            "|    A  |\n",
            "| R  A  |\n",
            "| RA AA |\n",
            "|RRR AR |\n",
            "+-------+\n",
            "Urmează: 1 - ROȘU\n",
            "A câștigat ALBASTRU\n",
            "|       |\n",
            "| A   R |\n",
            "| RA  RA|\n",
            "| RA  AA|\n",
            "| RAR RR|\n",
            "|AAARRAR|\n",
            "+-------+\n",
            "Urmează: 1 - ROȘU\n",
            "A câștigat ALBASTRU\n",
            "|       |\n",
            "|       |\n",
            "|    A R|\n",
            "|    A A|\n",
            "|R RAARA|\n",
            "|A RRARR|\n",
            "+-------+\n",
            "Urmează: 1 - ROȘU\n",
            "A câștigat ALBASTRU\n",
            "|   A   |\n",
            "|   R  R|\n",
            "| A RRRA|\n",
            "| A AARA|\n",
            "| ARARAA|\n",
            "|RAARRRR|\n",
            "+-------+\n",
            "Urmează: 1 - ROȘU\n",
            "A câștigat ALBASTRU\n",
            "Scor final: {'': 0, 'ROȘU': 0, 'ALBASTRU': 5, 'REMIZĂ': 0}.\n",
            "|     A |\n",
            "|     A |\n",
            "|     R |\n",
            "|    RA |\n",
            "|  RRRRA|\n",
            "|ARAAARR|\n",
            "+-------+\n",
            "Urmează: 2 - ALBASTRU\n",
            "A câștigat ROȘU\n",
            "|       |\n",
            "|       |\n",
            "|       |\n",
            "|       |\n",
            "| AA  RA|\n",
            "|AARRRRR|\n",
            "+-------+\n",
            "Urmează: 2 - ALBASTRU\n",
            "A câștigat ROȘU\n",
            "|       |\n",
            "|       |\n",
            "|       |\n",
            "|       |\n",
            "|  A    |\n",
            "|AARRRR |\n",
            "+-------+\n",
            "Urmează: 2 - ALBASTRU\n",
            "A câștigat ROȘU\n",
            "|       |\n",
            "|       |\n",
            "|R  A   |\n",
            "|RA R  R|\n",
            "|RR RA A|\n",
            "|RA RAAA|\n",
            "+-------+\n",
            "Urmează: 2 - ALBASTRU\n",
            "A câștigat ROȘU\n",
            "|  A    |\n",
            "|  AR   |\n",
            "| RAA   |\n",
            "|RARA R |\n",
            "|AARRRRA|\n",
            "|RRAAARR|\n",
            "+-------+\n",
            "Urmează: 2 - ALBASTRU\n",
            "A câștigat ROȘU\n",
            "Scor final: {'': 0, 'ROȘU': 5, 'ALBASTRU': 0, 'REMIZĂ': 0}.\n",
            "Rezultate pentru câte 20 de jocuri (ROȘU / ALBASTRU / REMIZĂ):\n",
            "Buget mic | Buget mare | avantaj ALBASTRU | avantaj ROȘU\n",
            "    2     |     30     |      2 / 18 / 0  |  20 / 0 / 0  |\n",
            "    5     |     30     |      2 / 18 / 0  |  19 / 1 / 0  |\n",
            "   10     |     30     |      4 / 15 / 1  |  18 / 2 / 0  |\n",
            "   20     |     20     |      12 / 8 / 0  | 10 / 10 / 0  |\n"
          ]
        }
      ],
      "source": [
        "# play_games(N, BR, BA, VERBOSE) - rulează N jocuri, cu bugetele BR pt ROȘU și BA pt ALBASTRU\n",
        "# TODO: rulați pentru câte 5 jocuri:\n",
        "play_games(5, 2, 30, True) # ne așteptăm să câștige ALBASTRU\n",
        "play_games(5, 30, 2, True) # ne așteptăm să câștige ROȘU\n",
        "\n",
        "# TODO: rulați pentru câte 20 de jocuri:\n",
        "ngames = 20\n",
        "print(f\"Rezultate pentru câte {ngames} de jocuri (ROȘU / ALBASTRU / REMIZĂ):\")\n",
        "print(\"Buget mic | Buget mare | avantaj ALBASTRU | avantaj ROȘU\")\n",
        "for small, big in [(2, 30), (5, 30), (10, 30), (20, 20)]:\n",
        "    print(f\"{small : >5}     | {big : >6}     |\", end = \"\")\n",
        "    score = play_games(ngames, small, big, False)\n",
        "    print(\"{:>16}\".format(f\"{score[name[RED]]} / {score[name[BLUE]]} / {score[name[DRAW]]}\"), end = \"  |\")\n",
        "    score = play_games(ngames, big, small, False)\n",
        "    print(\"{:>12}\".format(f\"{score[name[RED]]} / {score[name[BLUE]]} / {score[name[DRAW]]}\"), end = \"  |\")\n",
        "    print()\n"
      ]
    },
    {
      "cell_type": "code",
      "execution_count": null,
      "metadata": {
        "id": "ZdhwPQgs3StK"
      },
      "outputs": [],
      "source": []
    }
  ],
  "metadata": {
    "kernelspec": {
      "display_name": "Python 3 (ipykernel)",
      "language": "python",
      "name": "python3"
    },
    "language_info": {
      "codemirror_mode": {
        "name": "ipython",
        "version": 3
      },
      "file_extension": ".py",
      "mimetype": "text/x-python",
      "name": "python",
      "nbconvert_exporter": "python",
      "pygments_lexer": "ipython3",
      "version": "3.11.6"
    },
    "colab": {
      "provenance": []
    }
  },
  "nbformat": 4,
  "nbformat_minor": 0
}